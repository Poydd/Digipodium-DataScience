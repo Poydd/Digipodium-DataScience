{
 "cells": [
  {
   "cell_type": "code",
   "execution_count": 1,
   "metadata": {},
   "outputs": [
    {
     "ename": "SyntaxError",
     "evalue": "invalid syntax. Perhaps you forgot a comma? (1110292295.py, line 32)",
     "output_type": "error",
     "traceback": [
      "\u001b[1;36m  Cell \u001b[1;32mIn[1], line 32\u001b[1;36m\u001b[0m\n\u001b[1;33m    print( num1, \"+\" num2 \"=\" add(num1, num2) )\u001b[0m\n\u001b[1;37m                 ^\u001b[0m\n\u001b[1;31mSyntaxError\u001b[0m\u001b[1;31m:\u001b[0m invalid syntax. Perhaps you forgot a comma?\n"
     ]
    }
   ],
   "source": [
    "def add(x, y):\n",
    "    return(x + y)\n",
    "\n",
    "def substract(x, y):\n",
    "    return(x - y)\n",
    "\n",
    "def multiply(x, y):\n",
    "    return(x * y)\n",
    "\n",
    "def divide(x, y):\n",
    "    return(x / y)\n",
    "\n",
    "\n",
    "print('select operation')\n",
    "print('1. Add')\n",
    "print('2. Subtract')\n",
    "print('3. Multiply')\n",
    "print('4 .Divide')\n",
    "\n",
    "\n",
    "while True:\n",
    "    choice = ('enter the choice (1/2/3/4):')\n",
    "    if choice ('1', '2', '3', '4'):\n",
    "        try:\n",
    "         num1 = float(input('enter first number:'))\n",
    "         num2 = float(input('enter second number:'))\n",
    "        except ValueError:\n",
    "            print('Invalid input. Please enter a number')\n",
    "            continue\n",
    "\n",
    "        if choice == '1':\n",
    "            print( num1, \"+\" num2 \"=\" add(num1, num2) )\n",
    "\n",
    "        elif choice == '2':\n",
    "            print (num1, \"-\" num2 \"=\" subtract(num1, num2) )\n",
    "\n",
    "        \n",
    "        elif choice == '3':\n",
    "            print (num1, \"*\" num2 \"=\" multiply(num1, num2))\n",
    "\n",
    "            elif choice == '4':\n",
    "            print (num1, \"/\" num2 \"=\" divide(num1, num2))\n",
    "\n",
    "\n"
   ]
  },
  {
   "cell_type": "code",
   "execution_count": null,
   "metadata": {},
   "outputs": [],
   "source": []
  }
 ],
 "metadata": {
  "kernelspec": {
   "display_name": "base",
   "language": "python",
   "name": "python3"
  },
  "language_info": {
   "codemirror_mode": {
    "name": "ipython",
    "version": 3
   },
   "file_extension": ".py",
   "mimetype": "text/x-python",
   "name": "python",
   "nbconvert_exporter": "python",
   "pygments_lexer": "ipython3",
   "version": "3.10.10"
  },
  "orig_nbformat": 4
 },
 "nbformat": 4,
 "nbformat_minor": 2
}
