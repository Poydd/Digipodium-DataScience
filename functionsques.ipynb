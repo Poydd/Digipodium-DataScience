{
 "cells": [
  {
   "cell_type": "code",
   "execution_count": 14,
   "metadata": {},
   "outputs": [
    {
     "name": "stdout",
     "output_type": "stream",
     "text": [
      "0.06\n"
     ]
    }
   ],
   "source": [
    "def si(p,r,t):\n",
    "    return p*r*t/100\n",
    "\n",
    "\n",
    "print(si(3,2,1))"
   ]
  },
  {
   "cell_type": "code",
   "execution_count": 11,
   "metadata": {},
   "outputs": [
    {
     "name": "stdout",
     "output_type": "stream",
     "text": [
      "30\n"
     ]
    }
   ],
   "source": [
    "def num(x):\n",
    "    return x*2\n",
    "    \n",
    "print(num(15))"
   ]
  },
  {
   "cell_type": "code",
   "execution_count": 23,
   "metadata": {},
   "outputs": [
    {
     "name": "stdout",
     "output_type": "stream",
     "text": [
      "[1, 3, 5, 7, 9]\n"
     ]
    }
   ],
   "source": [
    "num = [1,2,3,4,5,6,7,8,9]\n",
    "odd_num = list(filter(lambda x: x%2==1,num))\n",
    "print(odd_num)"
   ]
  },
  {
   "cell_type": "code",
   "execution_count": 24,
   "metadata": {},
   "outputs": [
    {
     "name": "stdout",
     "output_type": "stream",
     "text": [
      "[2, 4, 6, 8]\n"
     ]
    }
   ],
   "source": [
    "\n",
    "\n",
    "num = [1,2,3,4,5,6,7,8,9]\n",
    "even_num = list(filter(lambda x: x%2==0,num))\n",
    "print(even_num)\n",
    "\n",
    "\n"
   ]
  },
  {
   "cell_type": "code",
   "execution_count": 30,
   "metadata": {},
   "outputs": [
    {
     "name": "stdout",
     "output_type": "stream",
     "text": [
      "[<function <listcomp>.<lambda> at 0x0000010F77CD1FC0>, <function <listcomp>.<lambda> at 0x0000010F77CD1000>, <function <listcomp>.<lambda> at 0x0000010F77CD1F30>, <function <listcomp>.<lambda> at 0x0000010F77CD2050>, <function <listcomp>.<lambda> at 0x0000010F77CD2200>, <function <listcomp>.<lambda> at 0x0000010F77CD0430>, <function <listcomp>.<lambda> at 0x0000010F77CD2680>, <function <listcomp>.<lambda> at 0x0000010F77CD2710>, <function <listcomp>.<lambda> at 0x0000010F77CD27A0>, <function <listcomp>.<lambda> at 0x0000010F77CD2830>]\n",
      "[<function <listcomp>.<lambda> at 0x0000010F77CD1FC0>, <function <listcomp>.<lambda> at 0x0000010F77CD1000>, <function <listcomp>.<lambda> at 0x0000010F77CD1F30>, <function <listcomp>.<lambda> at 0x0000010F77CD2050>, <function <listcomp>.<lambda> at 0x0000010F77CD2200>, <function <listcomp>.<lambda> at 0x0000010F77CD0430>, <function <listcomp>.<lambda> at 0x0000010F77CD2680>, <function <listcomp>.<lambda> at 0x0000010F77CD2710>, <function <listcomp>.<lambda> at 0x0000010F77CD27A0>, <function <listcomp>.<lambda> at 0x0000010F77CD2830>]\n",
      "[<function <listcomp>.<lambda> at 0x0000010F77CD1FC0>, <function <listcomp>.<lambda> at 0x0000010F77CD1000>, <function <listcomp>.<lambda> at 0x0000010F77CD1F30>, <function <listcomp>.<lambda> at 0x0000010F77CD2050>, <function <listcomp>.<lambda> at 0x0000010F77CD2200>, <function <listcomp>.<lambda> at 0x0000010F77CD0430>, <function <listcomp>.<lambda> at 0x0000010F77CD2680>, <function <listcomp>.<lambda> at 0x0000010F77CD2710>, <function <listcomp>.<lambda> at 0x0000010F77CD27A0>, <function <listcomp>.<lambda> at 0x0000010F77CD2830>]\n",
      "[<function <listcomp>.<lambda> at 0x0000010F77CD1FC0>, <function <listcomp>.<lambda> at 0x0000010F77CD1000>, <function <listcomp>.<lambda> at 0x0000010F77CD1F30>, <function <listcomp>.<lambda> at 0x0000010F77CD2050>, <function <listcomp>.<lambda> at 0x0000010F77CD2200>, <function <listcomp>.<lambda> at 0x0000010F77CD0430>, <function <listcomp>.<lambda> at 0x0000010F77CD2680>, <function <listcomp>.<lambda> at 0x0000010F77CD2710>, <function <listcomp>.<lambda> at 0x0000010F77CD27A0>, <function <listcomp>.<lambda> at 0x0000010F77CD2830>]\n",
      "[<function <listcomp>.<lambda> at 0x0000010F77CD1FC0>, <function <listcomp>.<lambda> at 0x0000010F77CD1000>, <function <listcomp>.<lambda> at 0x0000010F77CD1F30>, <function <listcomp>.<lambda> at 0x0000010F77CD2050>, <function <listcomp>.<lambda> at 0x0000010F77CD2200>, <function <listcomp>.<lambda> at 0x0000010F77CD0430>, <function <listcomp>.<lambda> at 0x0000010F77CD2680>, <function <listcomp>.<lambda> at 0x0000010F77CD2710>, <function <listcomp>.<lambda> at 0x0000010F77CD27A0>, <function <listcomp>.<lambda> at 0x0000010F77CD2830>]\n",
      "[<function <listcomp>.<lambda> at 0x0000010F77CD1FC0>, <function <listcomp>.<lambda> at 0x0000010F77CD1000>, <function <listcomp>.<lambda> at 0x0000010F77CD1F30>, <function <listcomp>.<lambda> at 0x0000010F77CD2050>, <function <listcomp>.<lambda> at 0x0000010F77CD2200>, <function <listcomp>.<lambda> at 0x0000010F77CD0430>, <function <listcomp>.<lambda> at 0x0000010F77CD2680>, <function <listcomp>.<lambda> at 0x0000010F77CD2710>, <function <listcomp>.<lambda> at 0x0000010F77CD27A0>, <function <listcomp>.<lambda> at 0x0000010F77CD2830>]\n",
      "[<function <listcomp>.<lambda> at 0x0000010F77CD1FC0>, <function <listcomp>.<lambda> at 0x0000010F77CD1000>, <function <listcomp>.<lambda> at 0x0000010F77CD1F30>, <function <listcomp>.<lambda> at 0x0000010F77CD2050>, <function <listcomp>.<lambda> at 0x0000010F77CD2200>, <function <listcomp>.<lambda> at 0x0000010F77CD0430>, <function <listcomp>.<lambda> at 0x0000010F77CD2680>, <function <listcomp>.<lambda> at 0x0000010F77CD2710>, <function <listcomp>.<lambda> at 0x0000010F77CD27A0>, <function <listcomp>.<lambda> at 0x0000010F77CD2830>]\n",
      "[<function <listcomp>.<lambda> at 0x0000010F77CD1FC0>, <function <listcomp>.<lambda> at 0x0000010F77CD1000>, <function <listcomp>.<lambda> at 0x0000010F77CD1F30>, <function <listcomp>.<lambda> at 0x0000010F77CD2050>, <function <listcomp>.<lambda> at 0x0000010F77CD2200>, <function <listcomp>.<lambda> at 0x0000010F77CD0430>, <function <listcomp>.<lambda> at 0x0000010F77CD2680>, <function <listcomp>.<lambda> at 0x0000010F77CD2710>, <function <listcomp>.<lambda> at 0x0000010F77CD27A0>, <function <listcomp>.<lambda> at 0x0000010F77CD2830>]\n",
      "[<function <listcomp>.<lambda> at 0x0000010F77CD1FC0>, <function <listcomp>.<lambda> at 0x0000010F77CD1000>, <function <listcomp>.<lambda> at 0x0000010F77CD1F30>, <function <listcomp>.<lambda> at 0x0000010F77CD2050>, <function <listcomp>.<lambda> at 0x0000010F77CD2200>, <function <listcomp>.<lambda> at 0x0000010F77CD0430>, <function <listcomp>.<lambda> at 0x0000010F77CD2680>, <function <listcomp>.<lambda> at 0x0000010F77CD2710>, <function <listcomp>.<lambda> at 0x0000010F77CD27A0>, <function <listcomp>.<lambda> at 0x0000010F77CD2830>]\n",
      "[<function <listcomp>.<lambda> at 0x0000010F77CD1FC0>, <function <listcomp>.<lambda> at 0x0000010F77CD1000>, <function <listcomp>.<lambda> at 0x0000010F77CD1F30>, <function <listcomp>.<lambda> at 0x0000010F77CD2050>, <function <listcomp>.<lambda> at 0x0000010F77CD2200>, <function <listcomp>.<lambda> at 0x0000010F77CD0430>, <function <listcomp>.<lambda> at 0x0000010F77CD2680>, <function <listcomp>.<lambda> at 0x0000010F77CD2710>, <function <listcomp>.<lambda> at 0x0000010F77CD27A0>, <function <listcomp>.<lambda> at 0x0000010F77CD2830>]\n"
     ]
    }
   ],
   "source": [
    "arr = [lambda arg=x: arg for x in range (10)]\n",
    "for i in arr:\n",
    "    print(arr)"
   ]
  },
  {
   "cell_type": "code",
   "execution_count": null,
   "metadata": {},
   "outputs": [],
   "source": []
  }
 ],
 "metadata": {
  "kernelspec": {
   "display_name": "base",
   "language": "python",
   "name": "python3"
  },
  "language_info": {
   "codemirror_mode": {
    "name": "ipython",
    "version": 3
   },
   "file_extension": ".py",
   "mimetype": "text/x-python",
   "name": "python",
   "nbconvert_exporter": "python",
   "pygments_lexer": "ipython3",
   "version": "3.10.10"
  },
  "orig_nbformat": 4
 },
 "nbformat": 4,
 "nbformat_minor": 2
}
