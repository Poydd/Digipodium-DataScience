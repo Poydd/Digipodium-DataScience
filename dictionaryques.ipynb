{
 "cells": [
  {
   "cell_type": "code",
   "execution_count": 4,
   "metadata": {},
   "outputs": [
    {
     "name": "stdout",
     "output_type": "stream",
     "text": [
      "{'hello'}\n"
     ]
    }
   ],
   "source": [
    "string = input().lower()\n",
    "dicx = {''}\n",
    "count = 0\n",
    "for i in string:\n",
    "    dicx['i'] = ' '\n",
    "\n",
    "print(dicx)"
   ]
  },
  {
   "cell_type": "code",
   "execution_count": 5,
   "metadata": {},
   "outputs": [
    {
     "name": "stdout",
     "output_type": "stream",
     "text": [
      "updated dictionary:\n",
      "{'a': 1, 'b': 2, 'c': 3, 'd': 4}\n"
     ]
    }
   ],
   "source": [
    "dict1 = {\"a\" : 1, \"b\" : 2}\n",
    "dict2 = {\"c\" : 3, \"d\" : 4}\n",
    "dict1.update(dict2)\n",
    "print('updated dictionary:')\n",
    "print(dict1)\n"
   ]
  },
  {
   "cell_type": "code",
   "execution_count": 17,
   "metadata": {},
   "outputs": [
    {
     "name": "stdout",
     "output_type": "stream",
     "text": [
      "dict_keys(['a', 'b', 'c'])\n",
      "c\n"
     ]
    }
   ],
   "source": [
    "dict = {\"a\" : 10, \"b\" : 5, \"c\" : 10}\n",
    "print(dict.keys())\n",
    "print(max(dict))"
   ]
  },
  {
   "cell_type": "code",
   "execution_count": 6,
   "metadata": {},
   "outputs": [
    {
     "name": "stdout",
     "output_type": "stream",
     "text": [
      "dict_keys(['a', 'b', 'c'])\n"
     ]
    }
   ],
   "source": [
    "dict = {\"a\" : 1, \"b\" : 2, \"c\" : 3}\n",
    "print(dict.keys())\n"
   ]
  },
  {
   "cell_type": "code",
   "execution_count": 9,
   "metadata": {},
   "outputs": [
    {
     "data": {
      "text/plain": [
       "1"
      ]
     },
     "execution_count": 9,
     "metadata": {},
     "output_type": "execute_result"
    }
   ],
   "source": [
    "dict.pop('a')"
   ]
  },
  {
   "cell_type": "code",
   "execution_count": 10,
   "metadata": {},
   "outputs": [],
   "source": [
    "dict1 = {\"a\": 1, \"b\": 2, \"c\": 3}\n",
    "dict2 = {\"b\": 3, \"c\": 4, \"d\": 5}\n",
    "def find_common_keys(dic1, dic2):\n",
    "   common_keys = []\n",
    "   for key in dic1.keys():\n",
    "      if key in dict2:\n",
    "         common_keys.append(key)\n",
    "   return common_keys"
   ]
  },
  {
   "cell_type": "code",
   "execution_count": 11,
   "metadata": {},
   "outputs": [
    {
     "name": "stdout",
     "output_type": "stream",
     "text": [
      "['b', 'c']\n"
     ]
    }
   ],
   "source": [
    "result = find_common_keys(dict1, dict2)\n",
    "print(result)"
   ]
  },
  {
   "cell_type": "code",
   "execution_count": 14,
   "metadata": {},
   "outputs": [
    {
     "name": "stdout",
     "output_type": "stream",
     "text": [
      "3\n"
     ]
    }
   ],
   "source": [
    "dict1 = {\"a\": 1, \"b\": 2, \"c\": 3}\n",
    "print(len(dict1))\n"
   ]
  },
  {
   "cell_type": "code",
   "execution_count": 16,
   "metadata": {},
   "outputs": [
    {
     "name": "stdout",
     "output_type": "stream",
     "text": [
      "['a', 'b', 'c']\n"
     ]
    }
   ],
   "source": [
    "dic1 = {\"b\": 2, \"a\": 1, \"c\": 3}\n",
    "print(sorted(dict1))\n"
   ]
  },
  {
   "cell_type": "code",
   "execution_count": 20,
   "metadata": {},
   "outputs": [
    {
     "name": "stdout",
     "output_type": "stream",
     "text": [
      "key with the minimum value is b\n"
     ]
    }
   ],
   "source": [
    "dict1 = {\"a\": 10, \"b\": 5, \"c\": 15}\n",
    "def find_key_with_min_value(dict):\n",
    "    if not dict:\n",
    "        return None\n",
    "    min_key = min(dict, key=dict.get)\n",
    "    return min_key\n",
    "result = find_key_with_min_value(dict1)\n",
    "print('key with the minimum value is',result)"
   ]
  },
  {
   "cell_type": "code",
   "execution_count": 21,
   "metadata": {},
   "outputs": [
    {
     "name": "stdout",
     "output_type": "stream",
     "text": [
      "dict_values([1, 2, 3])\n"
     ]
    }
   ],
   "source": [
    "dict1 = {\"a\": 1, \"b\": 2, \"c\": 3}\n",
    "print(dict1.values())\n"
   ]
  },
  {
   "cell_type": "code",
   "execution_count": 1,
   "metadata": {},
   "outputs": [
    {
     "name": "stdout",
     "output_type": "stream",
     "text": [
      "{1: 1, 2: 4, 3: 9, 4: 16, 5: 25, 6: 36, 7: 49, 8: 64, 9: 81, 10: 100}\n"
     ]
    }
   ],
   "source": [
    "squares_dict = {}\n",
    "for num in range(1,11):\n",
    "    squares_dict[num] = num * num\n",
    "print(squares_dict)"
   ]
  },
  {
   "cell_type": "code",
   "execution_count": 9,
   "metadata": {},
   "outputs": [
    {
     "name": "stdout",
     "output_type": "stream",
     "text": [
      "dict_items([('a', 1), ('b', 2), ('c', 3)])\n",
      "None\n"
     ]
    }
   ],
   "source": [
    "dict1 = {\"a\": 1, \"b\": 2, \"c\": 3}\n",
    "print(dict1.items())\n",
    "print(dict1.clear())\n"
   ]
  },
  {
   "cell_type": "code",
   "execution_count": 11,
   "metadata": {},
   "outputs": [
    {
     "name": "stdout",
     "output_type": "stream",
     "text": [
      "Original dictionary: {'a': '1', 'b': '2', 'c': '3'}\n",
      "Dictionary after clearing all items: {}\n"
     ]
    }
   ],
   "source": [
    "def clear_dictionary(input_dict):\n",
    "    input_dict.clear()\n",
    "\n",
    "my_dict = {'a': '1', 'b': '2', 'c': '3'}\n",
    "print(\"Original dictionary:\", my_dict)\n",
    "\n",
    "clear_dictionary(my_dict)\n",
    "print(\"Dictionary after clearing all items:\", my_dict)"
   ]
  },
  {
   "cell_type": "code",
   "execution_count": 16,
   "metadata": {},
   "outputs": [
    {
     "name": "stdout",
     "output_type": "stream",
     "text": [
      "[('a', 1), ('b', 2), ('c', 3)]\n"
     ]
    }
   ],
   "source": [
    "def dict_to_list_to_tuples(dictionary):\n",
    "  return list(dictionary.items())\n",
    "\n",
    "dict1 = {\"a\": 1, \"b\": 2, \"c\": 3}\n",
    "result_list = dict_to_list_to_tuples(dict1)\n",
    "print(result_list)"
   ]
  },
  {
   "cell_type": "code",
   "execution_count": 3,
   "metadata": {},
   "outputs": [
    {
     "name": "stdout",
     "output_type": "stream",
     "text": [
      "True\n"
     ]
    }
   ],
   "source": [
    "def are_values_unique(dictionary):\n",
    "    values = list(dictionary.values())\n",
    "    return len(values) == len(set(values))\n",
    "\n",
    "dict1 = {\"a\": 1, \"b\": 2, \"c\": 3}\n",
    "print(are_values_unique(dict1))"
   ]
  },
  {
   "cell_type": "code",
   "execution_count": 7,
   "metadata": {},
   "outputs": [
    {
     "name": "stdout",
     "output_type": "stream",
     "text": [
      "key: a, value: 1\n",
      "key: b, value: 2\n",
      "key: c, value: 3\n"
     ]
    }
   ],
   "source": [
    "def print_dict_keys_and_values(dictionary):\n",
    "    for key, value in dictionary.items():\n",
    "       print(f\"key: {key}, value: {value}\")\n",
    "    dict1 = {\"a\": 1, \"b\": 2, \"c\": 3}\n",
    "print_dict_keys_and_values(dict1)\n"
   ]
  },
  {
   "cell_type": "code",
   "execution_count": null,
   "metadata": {},
   "outputs": [],
   "source": []
  }
 ],
 "metadata": {
  "kernelspec": {
   "display_name": "base",
   "language": "python",
   "name": "python3"
  },
  "language_info": {
   "codemirror_mode": {
    "name": "ipython",
    "version": 3
   },
   "file_extension": ".py",
   "mimetype": "text/x-python",
   "name": "python",
   "nbconvert_exporter": "python",
   "pygments_lexer": "ipython3",
   "version": "3.10.10"
  },
  "orig_nbformat": 4
 },
 "nbformat": 4,
 "nbformat_minor": 2
}
