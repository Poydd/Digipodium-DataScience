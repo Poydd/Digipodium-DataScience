{
 "cells": [
  {
   "cell_type": "code",
   "execution_count": 2,
   "metadata": {},
   "outputs": [],
   "source": [
    "class cat:\n",
    "    breed = 'persian'"
   ]
  },
  {
   "cell_type": "code",
   "execution_count": 3,
   "metadata": {},
   "outputs": [
    {
     "name": "stdout",
     "output_type": "stream",
     "text": [
      "persian\n"
     ]
    }
   ],
   "source": [
    "billu = cat()\n",
    "sheru = cat()\n",
    "billi = cat()\n",
    "snowbell = cat()\n",
    "print(billu.breed)"
   ]
  },
  {
   "cell_type": "code",
   "execution_count": 16,
   "metadata": {},
   "outputs": [],
   "source": [
    "class cat:\n",
    "    def __init__(self,breed,age,colour='black'):\n",
    "        print('cat created')\n",
    "        print(f'breed: {breed}')\n",
    "        print(f'age: {age}')\n",
    "        print(f'colour: {colour}')\n"
   ]
  },
  {
   "cell_type": "code",
   "execution_count": 23,
   "metadata": {},
   "outputs": [],
   "source": [
    "class cat:\n",
    "    def __init__(self,breed,age,colour='black'):\n",
    "        self.breed = breed\n",
    "        self.age = age\n",
    "        self.colour = colour"
   ]
  },
  {
   "cell_type": "code",
   "execution_count": 27,
   "metadata": {},
   "outputs": [
    {
     "name": "stdout",
     "output_type": "stream",
     "text": [
      "billu.breed billu.age billu.colour\n"
     ]
    }
   ],
   "source": [
    "billu = cat('street cat',5)\n",
    "sheru = cat('persian',2,'white')\n",
    "billi = cat('persian',2,'black')\n",
    "snowbell = cat('siberian',2)\n",
    "\n",
    "print('billu.breed','billu.age','billu.colour')\n",
    "            "
   ]
  },
  {
   "cell_type": "code",
   "execution_count": null,
   "metadata": {},
   "outputs": [],
   "source": []
  }
 ],
 "metadata": {
  "kernelspec": {
   "display_name": "base",
   "language": "python",
   "name": "python3"
  },
  "language_info": {
   "codemirror_mode": {
    "name": "ipython",
    "version": 3
   },
   "file_extension": ".py",
   "mimetype": "text/x-python",
   "name": "python",
   "nbconvert_exporter": "python",
   "pygments_lexer": "ipython3",
   "version": "3.10.10"
  },
  "orig_nbformat": 4
 },
 "nbformat": 4,
 "nbformat_minor": 2
}
