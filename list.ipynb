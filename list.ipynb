{
 "cells": [
  {
   "cell_type": "markdown",
   "metadata": {},
   "source": [
    "## data.structure\n",
    "-list🟢\n",
    "      -indexed, ordered, mutable, '[]'\n",
    "-tuple\n",
    "      -indexed, ordered, **immutable**, '()'\n",
    "-set\n",
    "      -**unindexed**, **unordered**, mutable, **no-duplicate**, '{}'\n",
    "-dictionary🟢\n",
    "     -**unindexed**, **key value pairs**, mutable, '{}'"
   ]
  },
  {
   "cell_type": "code",
   "execution_count": 3,
   "metadata": {},
   "outputs": [],
   "source": [
    "# creating a list\n",
    "x = [] # empty list\n",
    "y = [1, 2, 3, 4,5] # list of integers\n",
    "z = ['sunday', 'monday', 'holiday']\n",
    "grocery = ['milk', 55, 'bread', 20, 'butter', 30]\n",
    "info = [[1,2,3], [4,5,6], [7,8],  [9,10,11,12]] # nested list\n",
    "a = [1]* 15 # list of 15 elements with ones"
   ]
  },
  {
   "cell_type": "code",
   "execution_count": 5,
   "metadata": {},
   "outputs": [],
   "source": [
    "x.append(10)\n",
    "x.append(input('enter a number:'))"
   ]
  },
  {
   "cell_type": "code",
   "execution_count": 12,
   "metadata": {},
   "outputs": [
    {
     "name": "stdout",
     "output_type": "stream",
     "text": [
      "[10, 10, '45', 34, 68, 1, 1, 2, 2, 1, 2, 3, 3, 3, 3, 1, 2, 3, 1, 2, 3, 3, 3, 3]\n"
     ]
    }
   ],
   "source": [
    "for i in range(3):\n",
    "    val = int(input('enter a number:'))\n",
    "    x.append(val)\n",
    "print(x)"
   ]
  },
  {
   "cell_type": "code",
   "execution_count": 14,
   "metadata": {},
   "outputs": [
    {
     "name": "stdout",
     "output_type": "stream",
     "text": [
      "10 10 45 34 68 1 1 2 2 1 2 3 3 3 3 1 2 3 1 2 3 3 3 3 "
     ]
    }
   ],
   "source": [
    "for i in x:\n",
    "    print(i, end=' ')"
   ]
  },
  {
   "cell_type": "markdown",
   "metadata": {},
   "source": [
    "list functions\n",
    "-adding\n",
    "  -append()    - add single item to an end\n",
    "  -insert()    - add single item at given list\n",
    "  -extend()    - merge an list to an existing list\n",
    "-remove\n",
    "   -remove()   - remove single item by value \n",
    "   -pop()      -remove single item by index\n",
    "   -clear()    -remove all items\n",
    "-utility\n",
    "   -index()    -find indexof item by value\n",
    "   -count()    - count repeated items\n",
    "   -sort()     - sort items \n",
    "   -reverse()  - reverse items\n",
    "   -copy()     - copy list\n"
   ]
  },
  {
   "cell_type": "code",
   "execution_count": 2,
   "metadata": {},
   "outputs": [
    {
     "data": {
      "text/plain": [
       "['The Final Empire', 'Psychology Of Money', 'Well Of Ascension']"
      ]
     },
     "execution_count": 2,
     "metadata": {},
     "output_type": "execute_result"
    }
   ],
   "source": [
    "books = []   # books list empty\n",
    "books.append('The Final Empire')     # a string is added to the end of list\n",
    "books.append('Psychology Of Money')\n",
    "books.append('Well Of Ascension')\n",
    "books"
   ]
  },
  {
   "cell_type": "code",
   "execution_count": 3,
   "metadata": {},
   "outputs": [
    {
     "data": {
      "text/plain": [
       "['The Final Empire',\n",
       " 'Harry Potter',\n",
       " 'Psychology Of Money',\n",
       " 'Well Of Ascension']"
      ]
     },
     "execution_count": 3,
     "metadata": {},
     "output_type": "execute_result"
    }
   ],
   "source": [
    "books.insert(1,\"Harry Potter\")\n",
    "books"
   ]
  },
  {
   "cell_type": "code",
   "execution_count": 4,
   "metadata": {},
   "outputs": [
    {
     "data": {
      "text/plain": [
       "['The Final Empire', 'Harry Potter', 'The Hero Of Ages', 'Well Of Ascension']"
      ]
     },
     "execution_count": 4,
     "metadata": {},
     "output_type": "execute_result"
    }
   ],
   "source": [
    "books[2] = \"The Hero Of Ages\"         # replace\n",
    "books"
   ]
  },
  {
   "cell_type": "code",
   "execution_count": 5,
   "metadata": {},
   "outputs": [],
   "source": [
    "old_books = ['A song of the Fire and Ice', 'Umbrella', 'The Jungle Book', 'Pride and Prejudice']\n",
    "books.extend(old_books)"
   ]
  },
  {
   "cell_type": "code",
   "execution_count": 6,
   "metadata": {},
   "outputs": [
    {
     "data": {
      "text/plain": [
       "['The Final Empire',\n",
       " 'Harry Potter',\n",
       " 'The Hero Of Ages',\n",
       " 'Well Of Ascension',\n",
       " 'A song of the Fire and Ice',\n",
       " 'Umbrella',\n",
       " 'The Jungle Book',\n",
       " 'Pride and Prejudice']"
      ]
     },
     "execution_count": 6,
     "metadata": {},
     "output_type": "execute_result"
    }
   ],
   "source": [
    "books"
   ]
  },
  {
   "cell_type": "markdown",
   "metadata": {},
   "source": [
    "extend function add a list to existing list\n",
    "\n",
    "\n",
    "append function takes only 1 arguement\n"
   ]
  },
  {
   "cell_type": "code",
   "execution_count": 10,
   "metadata": {},
   "outputs": [
    {
     "data": {
      "text/plain": [
       "['The Final Empire',\n",
       " 'Harry Potter',\n",
       " 'The Hero Of Ages',\n",
       " 'Well Of Ascension',\n",
       " 'A song of the Fire and Ice',\n",
       " 'Umbrella',\n",
       " 'Pride and Prejudice']"
      ]
     },
     "execution_count": 10,
     "metadata": {},
     "output_type": "execute_result"
    }
   ],
   "source": [
    "if 'The Jungle Book' in books:\n",
    " books.remove('The Jungle Book')   # remove only the first occurance\n",
    "books"
   ]
  },
  {
   "cell_type": "code",
   "execution_count": 11,
   "metadata": {},
   "outputs": [
    {
     "data": {
      "text/plain": [
       "'A song of the Fire and Ice'"
      ]
     },
     "execution_count": 11,
     "metadata": {},
     "output_type": "execute_result"
    }
   ],
   "source": [
    "books.pop(4)\n"
   ]
  },
  {
   "cell_type": "code",
   "execution_count": 12,
   "metadata": {},
   "outputs": [
    {
     "data": {
      "text/plain": [
       "['The Final Empire',\n",
       " 'Harry Potter',\n",
       " 'The Hero Of Ages',\n",
       " 'Well Of Ascension',\n",
       " 'Umbrella',\n",
       " 'Pride and Prejudice']"
      ]
     },
     "execution_count": 12,
     "metadata": {},
     "output_type": "execute_result"
    }
   ],
   "source": [
    "books"
   ]
  },
  {
   "cell_type": "code",
   "execution_count": 13,
   "metadata": {},
   "outputs": [
    {
     "data": {
      "text/plain": [
       "'Pride and Prejudice'"
      ]
     },
     "execution_count": 13,
     "metadata": {},
     "output_type": "execute_result"
    }
   ],
   "source": [
    "books.pop()        # removes the last item\n"
   ]
  },
  {
   "cell_type": "code",
   "execution_count": 14,
   "metadata": {},
   "outputs": [
    {
     "data": {
      "text/plain": [
       "['The Final Empire',\n",
       " 'Harry Potter',\n",
       " 'The Hero Of Ages',\n",
       " 'Well Of Ascension',\n",
       " 'Umbrella']"
      ]
     },
     "execution_count": 14,
     "metadata": {},
     "output_type": "execute_result"
    }
   ],
   "source": [
    "books"
   ]
  },
  {
   "cell_type": "code",
   "execution_count": 15,
   "metadata": {},
   "outputs": [
    {
     "data": {
      "text/plain": [
       "[]"
      ]
     },
     "execution_count": 15,
     "metadata": {},
     "output_type": "execute_result"
    }
   ],
   "source": [
    "books.clear()\n",
    "books"
   ]
  },
  {
   "cell_type": "code",
   "execution_count": 43,
   "metadata": {},
   "outputs": [
    {
     "data": {
      "text/plain": [
       "[\"  'Sholay',\",\n",
       " \"    'Dilwale Dulhania Le Jayenge',\",\n",
       " \"    'Lagaan',\",\n",
       " \"    'Kabhi Khushi Kabhie Gham',\",\n",
       " \"    'Kuch Kuch Hota Hai',\",\n",
       " \"    'Devdas',\",\n",
       " \"    'Dil Chahta Hai',\",\n",
       " \"    'Rang De Basanti',\",\n",
       " \"    'Jab We Met',\",\n",
       " \"    '3 Idiots',\",\n",
       " \"    'Gangs of Wasseypur',\",\n",
       " \"    'Queen',\",\n",
       " \"    'PK',\",\n",
       " \"    'Bajrangi Bhaijaan',\",\n",
       " \"    'Bahubali: The Beginning',\",\n",
       " \"    'Bahubali: The Conclusion',\",\n",
       " \"    'Dangal',\",\n",
       " \"    'Raazi',\",\n",
       " \"    'Padmaavat',\",\n",
       " \"    'Kabir Singh',\",\n",
       " \"    'Gully Boy',\",\n",
       " \"    'Uri: The Surgical Strike',\",\n",
       " \"    'Andhadhun',\",\n",
       " \"    'Article 15',\",\n",
       " \"    'Chhichhore',\",\n",
       " \"    'Tanhaji: The Unsung Warrior',\",\n",
       " \"    'Thappad',\",\n",
       " \"    'Masaan',\",\n",
       " \"    'Badhaai Ho',\",\n",
       " \"    'Dil Dhadakne Do',\",\n",
       " \"    'Zindagi Na Milegi Dobara',\",\n",
       " \"    'Barfi!',\",\n",
       " \"    'Bhaag Milkha Bhaag',\",\n",
       " \"    'Vicky Donor',\",\n",
       " \"    'Kahaani',\",\n",
       " \"    'Haider',\",\n",
       " \"    'Mulk',\",\n",
       " \"    'Badlapur',\",\n",
       " \"    'Bajirao Mastani',\",\n",
       " \"    'Dabangg',\",\n",
       " \"    'Dil To Pagal Hai',\",\n",
       " \"    'Guru',\",\n",
       " \"    'Rockstar',\",\n",
       " \"    'Wake Up Sid',\",\n",
       " \"    'A Wednesday',\",\n",
       " \"    'Black',\",\n",
       " \"    'Taare Zameen Par',\",\n",
       " \"    'Chhapaak',\",\n",
       " \"    'Piku',\",\n",
       " \"    'Neerja',\",\n",
       " \"    'Rustom',\",\n",
       " \"    'Drishyam',\",\n",
       " \"    'Pink',\",\n",
       " \"    'Panga',\",\n",
       " \"    'Super 30',\",\n",
       " \"    'Simmba',\",\n",
       " \"    'Article 15',\",\n",
       " \"    'Kedarnath',\",\n",
       " \"    'Sonu Ke Titu Ki Sweety',\",\n",
       " \"    'Pad Man',\",\n",
       " \"    'Newton',\",\n",
       " \"    'Talaash',\",\n",
       " \"    'Dear Zindagi',\",\n",
       " \"    'Luka Chuppi',\",\n",
       " \"    'Sanju',\",\n",
       " \"    'Student of the Year',\",\n",
       " \"    'War',\",\n",
       " \"    'Raid',\",\n",
       " \"    'Golmaal: Fun Unlimited',\",\n",
       " \"    'Dhadak',\",\n",
       " \"    'Chhichhore',\",\n",
       " \"    'Bala',\",\n",
       " \"    'Pati Patni Aur Woh',\",\n",
       " \"    'Dream Girl',\",\n",
       " \"    'Thugs of Hindostan',\",\n",
       " \"    'Housefull',\",\n",
       " \"    'Kabhi Alvida Naa Kehna',\",\n",
       " \"    'Veer-Zaara',\",\n",
       " \"    'Jodhaa Akbar',\",\n",
       " \"    'My Name Is Khan',\",\n",
       " \"    'Delhi-6',\",\n",
       " \"    'Fashion',\",\n",
       " \"    'Om Shanti Om',\",\n",
       " \"    'Jab Tak Hai Jaan',\",\n",
       " \"    'Ek Tha Tiger',\",\n",
       " \"    'Yeh Jawaani Hai Deewani',\",\n",
       " \"    'Chennai Express',\",\n",
       " \"    'Bang Bang!',\",\n",
       " \"    'Happy New Year',\",\n",
       " \"    'Dilwale',\",\n",
       " \"    'Bajirao Mastani',\",\n",
       " \"    'Ae Dil Hai Mushkil',\",\n",
       " \"    'Sultan',\",\n",
       " \"    'Dangal',\",\n",
       " \"    'Raees',\",\n",
       " \"    'Padmaavat',\",\n",
       " \"    'Sanju',\",\n",
       " \"    'Uri: The Surgical Strike',\",\n",
       " \"    'Kabir Singh',\",\n",
       " \"    'War' \"]"
      ]
     },
     "execution_count": 43,
     "metadata": {},
     "output_type": "execute_result"
    }
   ],
   "source": [
    "movies = '''  'Sholay',\n",
    "    'Dilwale Dulhania Le Jayenge',\n",
    "    'Lagaan',\n",
    "    'Kabhi Khushi Kabhie Gham',\n",
    "    'Kuch Kuch Hota Hai',\n",
    "    'Devdas',\n",
    "    'Dil Chahta Hai',\n",
    "    'Rang De Basanti',\n",
    "    'Jab We Met',\n",
    "    '3 Idiots',\n",
    "    'Gangs of Wasseypur',\n",
    "    'Queen',\n",
    "    'PK',\n",
    "    'Bajrangi Bhaijaan',\n",
    "    'Bahubali: The Beginning',\n",
    "    'Bahubali: The Conclusion',\n",
    "    'Dangal',\n",
    "    'Raazi',\n",
    "    'Padmaavat',\n",
    "    'Kabir Singh',\n",
    "    'Gully Boy',\n",
    "    'Uri: The Surgical Strike',\n",
    "    'Andhadhun',\n",
    "    'Article 15',\n",
    "    'Chhichhore',\n",
    "    'Tanhaji: The Unsung Warrior',\n",
    "    'Thappad',\n",
    "    'Masaan',\n",
    "    'Badhaai Ho',\n",
    "    'Dil Dhadakne Do',\n",
    "    'Zindagi Na Milegi Dobara',\n",
    "    'Barfi!',\n",
    "    'Bhaag Milkha Bhaag',\n",
    "    'Vicky Donor',\n",
    "    'Kahaani',\n",
    "    'Haider',\n",
    "    'Mulk',\n",
    "    'Badlapur',\n",
    "    'Bajirao Mastani',\n",
    "    'Dabangg',\n",
    "    'Dil To Pagal Hai',\n",
    "    'Guru',\n",
    "    'Rockstar',\n",
    "    'Wake Up Sid',\n",
    "    'A Wednesday',\n",
    "    'Black',\n",
    "    'Taare Zameen Par',\n",
    "    'Chhapaak',\n",
    "    'Piku',\n",
    "    'Neerja',\n",
    "    'Rustom',\n",
    "    'Drishyam',\n",
    "    'Pink',\n",
    "    'Panga',\n",
    "    'Super 30',\n",
    "    'Simmba',\n",
    "    'Article 15',\n",
    "    'Kedarnath',\n",
    "    'Sonu Ke Titu Ki Sweety',\n",
    "    'Pad Man',\n",
    "    'Newton',\n",
    "    'Talaash',\n",
    "    'Dear Zindagi',\n",
    "    'Luka Chuppi',\n",
    "    'Sanju',\n",
    "    'Student of the Year',\n",
    "    'War',\n",
    "    'Raid',\n",
    "    'Golmaal: Fun Unlimited',\n",
    "    'Dhadak',\n",
    "    'Chhichhore',\n",
    "    'Bala',\n",
    "    'Pati Patni Aur Woh',\n",
    "    'Dream Girl',\n",
    "    'Thugs of Hindostan',\n",
    "    'Housefull',\n",
    "    'Kabhi Alvida Naa Kehna',\n",
    "    'Veer-Zaara',\n",
    "    'Jodhaa Akbar',\n",
    "    'My Name Is Khan',\n",
    "    'Delhi-6',\n",
    "    'Fashion',\n",
    "    'Om Shanti Om',\n",
    "    'Jab Tak Hai Jaan',\n",
    "    'Ek Tha Tiger',\n",
    "    'Yeh Jawaani Hai Deewani',\n",
    "    'Chennai Express',\n",
    "    'Bang Bang!',\n",
    "    'Happy New Year',\n",
    "    'Dilwale',\n",
    "    'Bajirao Mastani',\n",
    "    'Ae Dil Hai Mushkil',\n",
    "    'Sultan',\n",
    "    'Dangal',\n",
    "    'Raees',\n",
    "    'Padmaavat',\n",
    "    'Sanju',\n",
    "    'Uri: The Surgical Strike',\n",
    "    'Kabir Singh',\n",
    "    'War' '''\n",
    "film = movies.splitlines()\n",
    "film"
   ]
  },
  {
   "cell_type": "code",
   "execution_count": 18,
   "metadata": {},
   "outputs": [
    {
     "name": "stdout",
     "output_type": "stream",
     "text": [
      "101\n"
     ]
    }
   ],
   "source": [
    "print(len(film))"
   ]
  },
  {
   "cell_type": "code",
   "execution_count": 20,
   "metadata": {},
   "outputs": [],
   "source": [
    "film.reverse()"
   ]
  },
  {
   "cell_type": "code",
   "execution_count": 24,
   "metadata": {},
   "outputs": [
    {
     "data": {
      "text/plain": [
       "['',\n",
       " \"    '3 Idiots',\",\n",
       " \"    'A Wednesday',\",\n",
       " \"    'Ae Dil Hai Mushkil',\",\n",
       " \"    'Andhadhun',\",\n",
       " \"    'Article 15',\",\n",
       " \"    'Article 15',\",\n",
       " \"    'Badhaai Ho',\",\n",
       " \"    'Badlapur',\",\n",
       " \"    'Bahubali: The Beginning',\",\n",
       " \"    'Bahubali: The Conclusion',\",\n",
       " \"    'Bajirao Mastani',\",\n",
       " \"    'Bajirao Mastani',\",\n",
       " \"    'Bajrangi Bhaijaan',\",\n",
       " \"    'Bala',\",\n",
       " \"    'Bang Bang!',\",\n",
       " \"    'Barfi!',\",\n",
       " \"    'Bhaag Milkha Bhaag',\",\n",
       " \"    'Black',\",\n",
       " \"    'Chennai Express',\",\n",
       " \"    'Chhapaak',\",\n",
       " \"    'Chhichhore',\",\n",
       " \"    'Chhichhore',\",\n",
       " \"    'Dabangg',\",\n",
       " \"    'Dangal',\",\n",
       " \"    'Dangal',\",\n",
       " \"    'Dear Zindagi',\",\n",
       " \"    'Delhi-6',\",\n",
       " \"    'Devdas',\",\n",
       " \"    'Dhadak',\",\n",
       " \"    'Dil Chahta Hai',\",\n",
       " \"    'Dil Dhadakne Do',\",\n",
       " \"    'Dil To Pagal Hai',\",\n",
       " \"    'Dilwale Dulhania Le Jayenge',\",\n",
       " \"    'Dilwale',\",\n",
       " \"    'Dream Girl',\",\n",
       " \"    'Drishyam',\",\n",
       " \"    'Ek Tha Tiger',\",\n",
       " \"    'Fashion',\",\n",
       " \"    'Gangs of Wasseypur',\",\n",
       " \"    'Golmaal: Fun Unlimited',\",\n",
       " \"    'Gully Boy',\",\n",
       " \"    'Guru',\",\n",
       " \"    'Haider',\",\n",
       " \"    'Happy New Year',\",\n",
       " \"    'Housefull',\",\n",
       " \"    'Jab Tak Hai Jaan',\",\n",
       " \"    'Jab We Met',\",\n",
       " \"    'Jodhaa Akbar',\",\n",
       " \"    'Kabhi Alvida Naa Kehna',\",\n",
       " \"    'Kabhi Khushi Kabhie Gham',\",\n",
       " \"    'Kabir Singh',\",\n",
       " \"    'Kabir Singh',\",\n",
       " \"    'Kahaani',\",\n",
       " \"    'Kedarnath',\",\n",
       " \"    'Kuch Kuch Hota Hai',\",\n",
       " \"    'Lagaan',\",\n",
       " \"    'Luka Chuppi',\",\n",
       " \"    'Masaan',\",\n",
       " \"    'Mulk',\",\n",
       " \"    'My Name Is Khan',\",\n",
       " \"    'Neerja',\",\n",
       " \"    'Newton',\",\n",
       " \"    'Om Shanti Om',\",\n",
       " \"    'PK',\",\n",
       " \"    'Pad Man',\",\n",
       " \"    'Padmaavat',\",\n",
       " \"    'Padmaavat',\",\n",
       " \"    'Panga',\",\n",
       " \"    'Pati Patni Aur Woh',\",\n",
       " \"    'Piku',\",\n",
       " \"    'Pink',\",\n",
       " \"    'Queen',\",\n",
       " \"    'Raazi',\",\n",
       " \"    'Raees',\",\n",
       " \"    'Raid',\",\n",
       " \"    'Rang De Basanti',\",\n",
       " \"    'Rockstar',\",\n",
       " \"    'Rustom',\",\n",
       " \"    'Sanju',\",\n",
       " \"    'Sanju',\",\n",
       " \"    'Sholay',\",\n",
       " \"    'Simmba',\",\n",
       " \"    'Sonu Ke Titu Ki Sweety',\",\n",
       " \"    'Student of the Year',\",\n",
       " \"    'Sultan',\",\n",
       " \"    'Super 30',\",\n",
       " \"    'Taare Zameen Par',\",\n",
       " \"    'Talaash',\",\n",
       " \"    'Tanhaji: The Unsung Warrior',\",\n",
       " \"    'Thappad',\",\n",
       " \"    'Thugs of Hindostan',\",\n",
       " \"    'Uri: The Surgical Strike',\",\n",
       " \"    'Uri: The Surgical Strike',\",\n",
       " \"    'Veer-Zaara',\",\n",
       " \"    'Vicky Donor',\",\n",
       " \"    'Wake Up Sid',\",\n",
       " \"    'War'\",\n",
       " \"    'War',\",\n",
       " \"    'Yeh Jawaani Hai Deewani',\",\n",
       " \"    'Zindagi Na Milegi Dobara',\"]"
      ]
     },
     "execution_count": 24,
     "metadata": {},
     "output_type": "execute_result"
    }
   ],
   "source": [
    "film"
   ]
  },
  {
   "cell_type": "code",
   "execution_count": 22,
   "metadata": {},
   "outputs": [],
   "source": [
    "film.sort()"
   ]
  },
  {
   "cell_type": "code",
   "execution_count": 23,
   "metadata": {},
   "outputs": [
    {
     "data": {
      "text/plain": [
       "['',\n",
       " \"    '3 Idiots',\",\n",
       " \"    'A Wednesday',\",\n",
       " \"    'Ae Dil Hai Mushkil',\",\n",
       " \"    'Andhadhun',\",\n",
       " \"    'Article 15',\",\n",
       " \"    'Article 15',\",\n",
       " \"    'Badhaai Ho',\",\n",
       " \"    'Badlapur',\",\n",
       " \"    'Bahubali: The Beginning',\",\n",
       " \"    'Bahubali: The Conclusion',\",\n",
       " \"    'Bajirao Mastani',\",\n",
       " \"    'Bajirao Mastani',\",\n",
       " \"    'Bajrangi Bhaijaan',\",\n",
       " \"    'Bala',\",\n",
       " \"    'Bang Bang!',\",\n",
       " \"    'Barfi!',\",\n",
       " \"    'Bhaag Milkha Bhaag',\",\n",
       " \"    'Black',\",\n",
       " \"    'Chennai Express',\",\n",
       " \"    'Chhapaak',\",\n",
       " \"    'Chhichhore',\",\n",
       " \"    'Chhichhore',\",\n",
       " \"    'Dabangg',\",\n",
       " \"    'Dangal',\",\n",
       " \"    'Dangal',\",\n",
       " \"    'Dear Zindagi',\",\n",
       " \"    'Delhi-6',\",\n",
       " \"    'Devdas',\",\n",
       " \"    'Dhadak',\",\n",
       " \"    'Dil Chahta Hai',\",\n",
       " \"    'Dil Dhadakne Do',\",\n",
       " \"    'Dil To Pagal Hai',\",\n",
       " \"    'Dilwale Dulhania Le Jayenge',\",\n",
       " \"    'Dilwale',\",\n",
       " \"    'Dream Girl',\",\n",
       " \"    'Drishyam',\",\n",
       " \"    'Ek Tha Tiger',\",\n",
       " \"    'Fashion',\",\n",
       " \"    'Gangs of Wasseypur',\",\n",
       " \"    'Golmaal: Fun Unlimited',\",\n",
       " \"    'Gully Boy',\",\n",
       " \"    'Guru',\",\n",
       " \"    'Haider',\",\n",
       " \"    'Happy New Year',\",\n",
       " \"    'Housefull',\",\n",
       " \"    'Jab Tak Hai Jaan',\",\n",
       " \"    'Jab We Met',\",\n",
       " \"    'Jodhaa Akbar',\",\n",
       " \"    'Kabhi Alvida Naa Kehna',\",\n",
       " \"    'Kabhi Khushi Kabhie Gham',\",\n",
       " \"    'Kabir Singh',\",\n",
       " \"    'Kabir Singh',\",\n",
       " \"    'Kahaani',\",\n",
       " \"    'Kedarnath',\",\n",
       " \"    'Kuch Kuch Hota Hai',\",\n",
       " \"    'Lagaan',\",\n",
       " \"    'Luka Chuppi',\",\n",
       " \"    'Masaan',\",\n",
       " \"    'Mulk',\",\n",
       " \"    'My Name Is Khan',\",\n",
       " \"    'Neerja',\",\n",
       " \"    'Newton',\",\n",
       " \"    'Om Shanti Om',\",\n",
       " \"    'PK',\",\n",
       " \"    'Pad Man',\",\n",
       " \"    'Padmaavat',\",\n",
       " \"    'Padmaavat',\",\n",
       " \"    'Panga',\",\n",
       " \"    'Pati Patni Aur Woh',\",\n",
       " \"    'Piku',\",\n",
       " \"    'Pink',\",\n",
       " \"    'Queen',\",\n",
       " \"    'Raazi',\",\n",
       " \"    'Raees',\",\n",
       " \"    'Raid',\",\n",
       " \"    'Rang De Basanti',\",\n",
       " \"    'Rockstar',\",\n",
       " \"    'Rustom',\",\n",
       " \"    'Sanju',\",\n",
       " \"    'Sanju',\",\n",
       " \"    'Sholay',\",\n",
       " \"    'Simmba',\",\n",
       " \"    'Sonu Ke Titu Ki Sweety',\",\n",
       " \"    'Student of the Year',\",\n",
       " \"    'Sultan',\",\n",
       " \"    'Super 30',\",\n",
       " \"    'Taare Zameen Par',\",\n",
       " \"    'Talaash',\",\n",
       " \"    'Tanhaji: The Unsung Warrior',\",\n",
       " \"    'Thappad',\",\n",
       " \"    'Thugs of Hindostan',\",\n",
       " \"    'Uri: The Surgical Strike',\",\n",
       " \"    'Uri: The Surgical Strike',\",\n",
       " \"    'Veer-Zaara',\",\n",
       " \"    'Vicky Donor',\",\n",
       " \"    'Wake Up Sid',\",\n",
       " \"    'War'\",\n",
       " \"    'War',\",\n",
       " \"    'Yeh Jawaani Hai Deewani',\",\n",
       " \"    'Zindagi Na Milegi Dobara',\"]"
      ]
     },
     "execution_count": 23,
     "metadata": {},
     "output_type": "execute_result"
    }
   ],
   "source": [
    "film"
   ]
  },
  {
   "cell_type": "code",
   "execution_count": 25,
   "metadata": {},
   "outputs": [
    {
     "data": {
      "text/plain": [
       "[\"    'Zindagi Na Milegi Dobara',\",\n",
       " \"    'Yeh Jawaani Hai Deewani',\",\n",
       " \"    'War',\",\n",
       " \"    'War'\",\n",
       " \"    'Wake Up Sid',\",\n",
       " \"    'Vicky Donor',\",\n",
       " \"    'Veer-Zaara',\",\n",
       " \"    'Uri: The Surgical Strike',\",\n",
       " \"    'Uri: The Surgical Strike',\",\n",
       " \"    'Thugs of Hindostan',\",\n",
       " \"    'Thappad',\",\n",
       " \"    'Tanhaji: The Unsung Warrior',\",\n",
       " \"    'Talaash',\",\n",
       " \"    'Taare Zameen Par',\",\n",
       " \"    'Super 30',\",\n",
       " \"    'Sultan',\",\n",
       " \"    'Student of the Year',\",\n",
       " \"    'Sonu Ke Titu Ki Sweety',\",\n",
       " \"    'Simmba',\",\n",
       " \"    'Sholay',\",\n",
       " \"    'Sanju',\",\n",
       " \"    'Sanju',\",\n",
       " \"    'Rustom',\",\n",
       " \"    'Rockstar',\",\n",
       " \"    'Rang De Basanti',\",\n",
       " \"    'Raid',\",\n",
       " \"    'Raees',\",\n",
       " \"    'Raazi',\",\n",
       " \"    'Queen',\",\n",
       " \"    'Pink',\",\n",
       " \"    'Piku',\",\n",
       " \"    'Pati Patni Aur Woh',\",\n",
       " \"    'Panga',\",\n",
       " \"    'Padmaavat',\",\n",
       " \"    'Padmaavat',\",\n",
       " \"    'Pad Man',\",\n",
       " \"    'PK',\",\n",
       " \"    'Om Shanti Om',\",\n",
       " \"    'Newton',\",\n",
       " \"    'Neerja',\",\n",
       " \"    'My Name Is Khan',\",\n",
       " \"    'Mulk',\",\n",
       " \"    'Masaan',\",\n",
       " \"    'Luka Chuppi',\",\n",
       " \"    'Lagaan',\",\n",
       " \"    'Kuch Kuch Hota Hai',\",\n",
       " \"    'Kedarnath',\",\n",
       " \"    'Kahaani',\",\n",
       " \"    'Kabir Singh',\",\n",
       " \"    'Kabir Singh',\",\n",
       " \"    'Kabhi Khushi Kabhie Gham',\",\n",
       " \"    'Kabhi Alvida Naa Kehna',\",\n",
       " \"    'Jodhaa Akbar',\",\n",
       " \"    'Jab We Met',\",\n",
       " \"    'Jab Tak Hai Jaan',\",\n",
       " \"    'Housefull',\",\n",
       " \"    'Happy New Year',\",\n",
       " \"    'Haider',\",\n",
       " \"    'Guru',\",\n",
       " \"    'Gully Boy',\",\n",
       " \"    'Golmaal: Fun Unlimited',\",\n",
       " \"    'Gangs of Wasseypur',\",\n",
       " \"    'Fashion',\",\n",
       " \"    'Ek Tha Tiger',\",\n",
       " \"    'Drishyam',\",\n",
       " \"    'Dream Girl',\",\n",
       " \"    'Dilwale',\",\n",
       " \"    'Dilwale Dulhania Le Jayenge',\",\n",
       " \"    'Dil To Pagal Hai',\",\n",
       " \"    'Dil Dhadakne Do',\",\n",
       " \"    'Dil Chahta Hai',\",\n",
       " \"    'Dhadak',\",\n",
       " \"    'Devdas',\",\n",
       " \"    'Delhi-6',\",\n",
       " \"    'Dear Zindagi',\",\n",
       " \"    'Dangal',\",\n",
       " \"    'Dangal',\",\n",
       " \"    'Dabangg',\",\n",
       " \"    'Chhichhore',\",\n",
       " \"    'Chhichhore',\",\n",
       " \"    'Chhapaak',\",\n",
       " \"    'Chennai Express',\",\n",
       " \"    'Black',\",\n",
       " \"    'Bhaag Milkha Bhaag',\",\n",
       " \"    'Barfi!',\",\n",
       " \"    'Bang Bang!',\",\n",
       " \"    'Bala',\",\n",
       " \"    'Bajrangi Bhaijaan',\",\n",
       " \"    'Bajirao Mastani',\",\n",
       " \"    'Bajirao Mastani',\",\n",
       " \"    'Bahubali: The Conclusion',\",\n",
       " \"    'Bahubali: The Beginning',\",\n",
       " \"    'Badlapur',\",\n",
       " \"    'Badhaai Ho',\",\n",
       " \"    'Article 15',\",\n",
       " \"    'Article 15',\",\n",
       " \"    'Andhadhun',\",\n",
       " \"    'Ae Dil Hai Mushkil',\",\n",
       " \"    'A Wednesday',\",\n",
       " \"    '3 Idiots',\",\n",
       " '']"
      ]
     },
     "execution_count": 25,
     "metadata": {},
     "output_type": "execute_result"
    }
   ],
   "source": [
    "film.sort(reverse=True)\n",
    "film"
   ]
  },
  {
   "cell_type": "code",
   "execution_count": 26,
   "metadata": {},
   "outputs": [
    {
     "data": {
      "text/plain": [
       "1"
      ]
     },
     "execution_count": 26,
     "metadata": {},
     "output_type": "execute_result"
    }
   ],
   "source": [
    "movies.count('Rustom')"
   ]
  },
  {
   "cell_type": "code",
   "execution_count": 27,
   "metadata": {},
   "outputs": [
    {
     "name": "stdout",
     "output_type": "stream",
     "text": [
      "2\n",
      "4\n",
      "0\n"
     ]
    }
   ],
   "source": [
    "x = [1,1,2,5,5,5,5]\n",
    "print(x.count(1))\n",
    "print(x.count(5))\n",
    "print(x.count(8))\n"
   ]
  },
  {
   "cell_type": "code",
   "execution_count": 37,
   "metadata": {},
   "outputs": [
    {
     "data": {
      "text/plain": [
       "67"
      ]
     },
     "execution_count": 37,
     "metadata": {},
     "output_type": "execute_result"
    }
   ],
   "source": [
    "film.index(\"    'War',\")"
   ]
  },
  {
   "cell_type": "code",
   "execution_count": 41,
   "metadata": {},
   "outputs": [
    {
     "data": {
      "text/plain": [
       "['',\n",
       " \"    'Sholay',\",\n",
       " \"    'Dilwale Dulhania Le Jayenge',\",\n",
       " \"    'Lagaan',\",\n",
       " \"    'Kabhi Khushi Kabhie Gham',\",\n",
       " \"    'Kuch Kuch Hota Hai',\",\n",
       " \"    'Devdas',\",\n",
       " \"    'Dil Chahta Hai',\",\n",
       " \"    'Rang De Basanti',\",\n",
       " \"    'Jab We Met',\",\n",
       " \"    '3 Idiots',\",\n",
       " \"    'Gangs of Wasseypur',\",\n",
       " \"    'Queen',\",\n",
       " \"    'PK',\",\n",
       " \"    'Bajrangi Bhaijaan',\",\n",
       " \"    'Bahubali: The Beginning',\",\n",
       " \"    'Bahubali: The Conclusion',\",\n",
       " \"    'Dangal',\",\n",
       " \"    'Raazi',\",\n",
       " \"    'Padmaavat',\",\n",
       " \"    'Kabir Singh',\",\n",
       " \"    'Gully Boy',\",\n",
       " \"    'Uri: The Surgical Strike',\",\n",
       " \"    'Andhadhun',\",\n",
       " \"    'Article 15',\",\n",
       " \"    'Chhichhore',\",\n",
       " \"    'Tanhaji: The Unsung Warrior',\",\n",
       " \"    'Thappad',\",\n",
       " \"    'Masaan',\",\n",
       " \"    'Badhaai Ho',\",\n",
       " \"    'Dil Dhadakne Do',\",\n",
       " \"    'Zindagi Na Milegi Dobara',\",\n",
       " \"    'Barfi!',\",\n",
       " \"    'Bhaag Milkha Bhaag',\",\n",
       " \"    'Vicky Donor',\",\n",
       " \"    'Kahaani',\",\n",
       " \"    'Haider',\",\n",
       " \"    'Mulk',\",\n",
       " \"    'Badlapur',\",\n",
       " \"    'Bajirao Mastani',\",\n",
       " \"    'Dabangg',\",\n",
       " \"    'Dil To Pagal Hai',\",\n",
       " \"    'Guru',\",\n",
       " \"    'Rockstar',\",\n",
       " \"    'Wake Up Sid',\",\n",
       " \"    'A Wednesday',\",\n",
       " \"    'Black',\",\n",
       " \"    'Taare Zameen Par',\",\n",
       " \"    'Chhapaak',\",\n",
       " \"    'Piku',\",\n",
       " \"    'Neerja',\",\n",
       " \"    'Rustom',\",\n",
       " \"    'Drishyam',\",\n",
       " \"    'Pink',\",\n",
       " \"    'Panga',\",\n",
       " \"    'Super 30',\",\n",
       " \"    'Simmba',\",\n",
       " \"    'Article 15',\",\n",
       " \"    'Kedarnath',\",\n",
       " \"    'Sonu Ke Titu Ki Sweety',\",\n",
       " \"    'Pad Man',\",\n",
       " \"    'Newton',\",\n",
       " \"    'Talaash',\",\n",
       " \"    'Dear Zindagi',\",\n",
       " \"    'Luka Chuppi',\",\n",
       " \"    'Sanju',\",\n",
       " \"    'Student of the Year',\",\n",
       " \"    'War',\",\n",
       " \"    'Raid',\",\n",
       " \"    'Golmaal: Fun Unlimited',\",\n",
       " \"    'Dhadak',\",\n",
       " \"    'Chhichhore',\",\n",
       " \"    'Bala',\",\n",
       " \"    'Pati Patni Aur Woh',\",\n",
       " \"    'Dream Girl',\",\n",
       " \"    'Thugs of Hindostan',\",\n",
       " \"    'Housefull',\",\n",
       " \"    'Kabhi Alvida Naa Kehna',\",\n",
       " \"    'Veer-Zaara',\",\n",
       " \"    'Jodhaa Akbar',\",\n",
       " \"    'My Name Is Khan',\",\n",
       " \"    'Delhi-6',\",\n",
       " \"    'Fashion',\",\n",
       " \"    'Om Shanti Om',\",\n",
       " \"    'Jab Tak Hai Jaan',\",\n",
       " \"    'Ek Tha Tiger',\",\n",
       " \"    'Yeh Jawaani Hai Deewani',\",\n",
       " \"    'Chennai Express',\",\n",
       " \"    'Bang Bang!',\",\n",
       " \"    'Happy New Year',\",\n",
       " \"    'Dilwale',\",\n",
       " \"    'Bajirao Mastani',\",\n",
       " \"    'Ae Dil Hai Mushkil',\",\n",
       " \"    'Sultan',\",\n",
       " \"    'Dangal',\",\n",
       " \"    'Raees',\",\n",
       " \"    'Padmaavat',\",\n",
       " \"    'Sanju',\",\n",
       " \"    'Uri: The Surgical Strike',\",\n",
       " \"    'Kabir Singh',\",\n",
       " \"    'War'\",\n",
       " '          ']"
      ]
     },
     "execution_count": 41,
     "metadata": {},
     "output_type": "execute_result"
    }
   ],
   "source": [
    "film_bk = film.copy()\n",
    "film        # copies the list to new "
   ]
  },
  {
   "cell_type": "code",
   "execution_count": 39,
   "metadata": {},
   "outputs": [
    {
     "name": "stdout",
     "output_type": "stream",
     "text": [
      "[102, 102, 102, 102, 102, 102, 102, 102, 102, 102, 102, 102, 102, 102, 102, 102, 102, 102, 102, 102, 102, 102, 102, 102, 102, 102, 102, 102, 102, 102, 102, 102, 102, 102, 102, 102, 102, 102, 102, 102, 102, 102, 102, 102, 102, 102, 102, 102, 102, 102, 102, 102, 102, 102, 102, 102, 102, 102, 102, 102, 102, 102, 102, 102, 102, 102, 102, 102, 102, 102, 102, 102, 102, 102, 102, 102, 102, 102, 102, 102, 102, 102, 102, 102, 102, 102, 102, 102, 102, 102, 102, 102, 102, 102, 102, 102, 102, 102, 102, 102, 102, 102]\n"
     ]
    }
   ],
   "source": [
    "size_film = []\n",
    "for movie in film:\n",
    "    s = len(film)\n",
    "    size_film.append(s)\n",
    "print(size_film)"
   ]
  },
  {
   "cell_type": "markdown",
   "metadata": {},
   "source": [
    "list comprehension  \n",
    "\n",
    "\n",
    "new_ list = [operation loop condition]\n",
    "\n",
    "\n",
    "size_movies = [len(i) for i in film]"
   ]
  },
  {
   "cell_type": "code",
   "execution_count": 44,
   "metadata": {},
   "outputs": [
    {
     "name": "stdout",
     "output_type": "stream",
     "text": [
      "[16, 2, 3, 5, 2, 1, 2, 3, 10]\n",
      "[256, 4, 9, 25, 4, 1, 4, 9, 100]\n"
     ]
    }
   ],
   "source": [
    "x = [16,2,3,5,2,1,2,3,10]\n",
    "x2 = [i**2 for i in x]\n",
    "print(x)\n",
    "print(x2)"
   ]
  },
  {
   "cell_type": "code",
   "execution_count": 45,
   "metadata": {},
   "outputs": [
    {
     "name": "stdout",
     "output_type": "stream",
     "text": [
      "[16, 2, 3, 5, 2, 1, 2, 3, 10]\n",
      "[256, 4, 4, 4, 100]\n"
     ]
    }
   ],
   "source": [
    "x2_even = [i**2 for i in x if i%2==0]\n",
    "print(x)\n",
    "print(x2_even)"
   ]
  }
 ],
 "metadata": {
  "kernelspec": {
   "display_name": "base",
   "language": "python",
   "name": "python3"
  },
  "language_info": {
   "codemirror_mode": {
    "name": "ipython",
    "version": 3
   },
   "file_extension": ".py",
   "mimetype": "text/x-python",
   "name": "python",
   "nbconvert_exporter": "python",
   "pygments_lexer": "ipython3",
   "version": "3.10.10"
  },
  "orig_nbformat": 4
 },
 "nbformat": 4,
 "nbformat_minor": 2
}
