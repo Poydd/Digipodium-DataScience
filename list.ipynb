{
 "cells": [
  {
   "cell_type": "markdown",
   "metadata": {},
   "source": [
    "## data.structure\n",
    "-list🟢\n",
    "      -indexed, ordered, mutable, '[]'\n",
    "-tuple\n",
    "      -indexed, ordered, **immutable**, '()'\n",
    "-set\n",
    "      -**unindexed**, **unordered**, mutable, **no-duplicate**, '{}'\n",
    "-dictionary🟢\n",
    "     -**unindexed**, **key value pairs**, mutable, '{}'"
   ]
  },
  {
   "cell_type": "code",
   "execution_count": 3,
   "metadata": {},
   "outputs": [],
   "source": [
    "# creating a list\n",
    "x = [] # empty list\n",
    "y = [1, 2, 3, 4,5] # list of integers\n",
    "z = ['sunday', 'monday', 'holiday']\n",
    "grocery = ['milk', 55, 'bread', 20, 'butter', 30]\n",
    "info = [[1,2,3], [4,5,6], [7,8],  [9,10,11,12]] # nested list\n",
    "a = [1]* 15 # list of 15 elements with ones"
   ]
  },
  {
   "cell_type": "code",
   "execution_count": 5,
   "metadata": {},
   "outputs": [],
   "source": [
    "x.append(10)\n",
    "x.append(input('enter a number:'))"
   ]
  },
  {
   "cell_type": "code",
   "execution_count": 12,
   "metadata": {},
   "outputs": [
    {
     "name": "stdout",
     "output_type": "stream",
     "text": [
      "[10, 10, '45', 34, 68, 1, 1, 2, 2, 1, 2, 3, 3, 3, 3, 1, 2, 3, 1, 2, 3, 3, 3, 3]\n"
     ]
    }
   ],
   "source": [
    "for i in range(3):\n",
    "    val = int(input('enter a number:'))\n",
    "    x.append(val)\n",
    "print(x)"
   ]
  },
  {
   "cell_type": "code",
   "execution_count": 14,
   "metadata": {},
   "outputs": [
    {
     "name": "stdout",
     "output_type": "stream",
     "text": [
      "10 10 45 34 68 1 1 2 2 1 2 3 3 3 3 1 2 3 1 2 3 3 3 3 "
     ]
    }
   ],
   "source": [
    "for i in x:\n",
    "    print(i, end=' ')"
   ]
  },
  {
   "cell_type": "markdown",
   "metadata": {},
   "source": [
    "list functions\n",
    "-adding\n",
    "  -append()    - add single item to an end\n",
    "  -insert()    - add single item at given list\n",
    "  -extend()    - merge an list to an existing list\n",
    "-remove\n",
    "   -remove()   - remove single item by value \n",
    "   -pop()      -remove single item by index\n",
    "   -clear()    -remove all items\n",
    "-utility\n",
    "   -index()    -find indexof item by value\n",
    "   -count()    - count repeated items\n",
    "   -sort()     - sort items \n",
    "   -reverse()  - reverse items\n",
    "   -copy()     - copy list\n"
   ]
  },
  {
   "cell_type": "code",
   "execution_count": null,
   "metadata": {},
   "outputs": [],
   "source": []
  }
 ],
 "metadata": {
  "kernelspec": {
   "display_name": "base",
   "language": "python",
   "name": "python3"
  },
  "language_info": {
   "codemirror_mode": {
    "name": "ipython",
    "version": 3
   },
   "file_extension": ".py",
   "mimetype": "text/x-python",
   "name": "python",
   "nbconvert_exporter": "python",
   "pygments_lexer": "ipython3",
   "version": "3.10.10"
  },
  "orig_nbformat": 4
 },
 "nbformat": 4,
 "nbformat_minor": 2
}
