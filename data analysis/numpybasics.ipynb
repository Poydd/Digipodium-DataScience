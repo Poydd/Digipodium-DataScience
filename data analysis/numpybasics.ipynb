{
 "cells": [
  {
   "cell_type": "code",
   "execution_count": 1,
   "metadata": {},
   "outputs": [],
   "source": [
    "import numpy as np"
   ]
  },
  {
   "cell_type": "code",
   "execution_count": 2,
   "metadata": {},
   "outputs": [
    {
     "data": {
      "text/plain": [
       "array([2, 3, 4, 5])"
      ]
     },
     "execution_count": 2,
     "metadata": {},
     "output_type": "execute_result"
    }
   ],
   "source": [
    "np.array([2,3,4,5])"
   ]
  },
  {
   "cell_type": "code",
   "execution_count": 5,
   "metadata": {},
   "outputs": [
    {
     "name": "stdout",
     "output_type": "stream",
     "text": [
      "[2 3 4 5]\n",
      "[[1 2 3]\n",
      " [4 5 6]]\n",
      "[[1 3]\n",
      " [4 2]\n",
      " [2 1]\n",
      " [3 4]]\n"
     ]
    }
   ],
   "source": [
    "x = np.array([2,3,4,5])            # 1D array\n",
    "x2d = np.array([[1,2,3],[4,5,6]])      # 2D array\n",
    "x3d = np.array([[1,3],[4,2],[2,1],[3,4]])        # 3D array\n",
    "print(x)\n",
    "print(x2d)\n",
    "print(x3d)"
   ]
  },
  {
   "cell_type": "code",
   "execution_count": 7,
   "metadata": {},
   "outputs": [
    {
     "data": {
      "text/plain": [
       "array([0. , 0.2, 0.4, 0.6, 0.8, 1. , 1.2, 1.4, 1.6, 1.8, 2. , 2.2, 2.4,\n",
       "       2.6, 2.8, 3. , 3.2, 3.4, 3.6, 3.8, 4. , 4.2, 4.4, 4.6, 4.8, 5. ,\n",
       "       5.2, 5.4, 5.6, 5.8, 6. , 6.2, 6.4, 6.6, 6.8, 7. , 7.2, 7.4, 7.6,\n",
       "       7.8, 8. , 8.2, 8.4, 8.6, 8.8, 9. , 9.2, 9.4, 9.6, 9.8])"
      ]
     },
     "execution_count": 7,
     "metadata": {},
     "output_type": "execute_result"
    }
   ],
   "source": [
    "# sequential matrix, np.arange() and np.linspace()\n",
    "np.arange(0, 10, .2)          # 1D array answer"
   ]
  },
  {
   "cell_type": "code",
   "execution_count": 8,
   "metadata": {},
   "outputs": [
    {
     "data": {
      "text/plain": [
       "50"
      ]
     },
     "execution_count": 8,
     "metadata": {},
     "output_type": "execute_result"
    }
   ],
   "source": [
    "np.arange(0, 10, .2).size"
   ]
  },
  {
   "cell_type": "code",
   "execution_count": 9,
   "metadata": {},
   "outputs": [
    {
     "data": {
      "text/plain": [
       "array([[0. , 0.2, 0.4, 0.6, 0.8, 1. , 1.2, 1.4, 1.6, 1.8],\n",
       "       [2. , 2.2, 2.4, 2.6, 2.8, 3. , 3.2, 3.4, 3.6, 3.8],\n",
       "       [4. , 4.2, 4.4, 4.6, 4.8, 5. , 5.2, 5.4, 5.6, 5.8],\n",
       "       [6. , 6.2, 6.4, 6.6, 6.8, 7. , 7.2, 7.4, 7.6, 7.8],\n",
       "       [8. , 8.2, 8.4, 8.6, 8.8, 9. , 9.2, 9.4, 9.6, 9.8]])"
      ]
     },
     "execution_count": 9,
     "metadata": {},
     "output_type": "execute_result"
    }
   ],
   "source": [
    "np.arange(0, 10, .2).reshape(5, 10)"
   ]
  },
  {
   "cell_type": "code",
   "execution_count": 25,
   "metadata": {},
   "outputs": [
    {
     "data": {
      "text/plain": [
       "array([ 0.        ,  2.14285714,  4.28571429,  6.42857143,  8.57142857,\n",
       "       10.71428571, 12.85714286, 15.        , 17.14285714, 19.28571429,\n",
       "       21.42857143, 23.57142857, 25.71428571, 27.85714286, 30.        ])"
      ]
     },
     "execution_count": 25,
     "metadata": {},
     "output_type": "execute_result"
    }
   ],
   "source": [
    "np.linspace(0, 30, 15)"
   ]
  },
  {
   "cell_type": "code",
   "execution_count": 26,
   "metadata": {},
   "outputs": [
    {
     "data": {
      "text/plain": [
       "15"
      ]
     },
     "execution_count": 26,
     "metadata": {},
     "output_type": "execute_result"
    }
   ],
   "source": [
    "np.linspace(0, 30, 15).size"
   ]
  },
  {
   "cell_type": "code",
   "execution_count": 29,
   "metadata": {},
   "outputs": [
    {
     "data": {
      "text/plain": [
       "array([[ 0.        ,  2.14285714,  4.28571429],\n",
       "       [ 6.42857143,  8.57142857, 10.71428571],\n",
       "       [12.85714286, 15.        , 17.14285714],\n",
       "       [19.28571429, 21.42857143, 23.57142857],\n",
       "       [25.71428571, 27.85714286, 30.        ]])"
      ]
     },
     "execution_count": 29,
     "metadata": {},
     "output_type": "execute_result"
    }
   ],
   "source": [
    "np.linspace(0, 30, 15).reshape(5, 3)"
   ]
  },
  {
   "cell_type": "code",
   "execution_count": 32,
   "metadata": {},
   "outputs": [
    {
     "name": "stdout",
     "output_type": "stream",
     "text": [
      "[[0.65918482 0.5129355  0.05354335 0.19444395]\n",
      " [0.20010029 0.47906491 0.01348995 0.03972673]\n",
      " [0.26811282 0.59051066 0.63524469 0.06748196]\n",
      " [0.62954851 0.19670911 0.53749117 0.54046655]]\n",
      "[[0.04550144 0.39505237 0.32471385]\n",
      " [0.29854256 0.43524408 0.54982479]\n",
      " [0.90550807 0.32457233 0.48074968]]\n",
      "[[ -4 -10   6]\n",
      " [  9   0 -10]\n",
      " [  7   4  -7]]\n",
      "[[1.19822266 0.8863062  0.38708654]\n",
      " [1.53259271 1.94279828 0.52227268]\n",
      " [1.71093943 0.80483846 1.75747421]]\n",
      "[ 2  6  4  9 10  8  7  5  3  1]\n"
     ]
    }
   ],
   "source": [
    "# randomized matrix with np.random\n",
    "# np.random.rand()\n",
    "print(np.random.rand(4,4))    # 0 to 1\n",
    "print(np.random.rand(3,3))    # normal distribution\n",
    "print(np.random.randint(-10,10,(3,3)))  # random int from -10 to 10\n",
    "print(np.random.uniform(0,2,(3,3)))   # random float from 0 to 10\n",
    "print(np.random.permutation([1,2,3,4,5,6,7,8,9,10]))  # random permutation"
   ]
  },
  {
   "cell_type": "code",
   "execution_count": null,
   "metadata": {},
   "outputs": [],
   "source": [
    "xp = np.random.uniform"
   ]
  },
  {
   "cell_type": "markdown",
   "metadata": {},
   "source": [
    "operations"
   ]
  },
  {
   "cell_type": "code",
   "execution_count": 33,
   "metadata": {},
   "outputs": [
    {
     "name": "stdout",
     "output_type": "stream",
     "text": [
      "[[ -1  -9  -9]\n",
      " [ -1   4   0]\n",
      " [ -3 -10   4]]\n",
      "[[-10   4   9]\n",
      " [ -4  -7   8]\n",
      " [ -5  -4   9]]\n"
     ]
    }
   ],
   "source": [
    "a = np.random.randint(-10,10,(3,3))\n",
    "b = np.random.randint(-10,10,(3,3))\n",
    "print(a)\n",
    "print(b)"
   ]
  },
  {
   "cell_type": "code",
   "execution_count": 34,
   "metadata": {},
   "outputs": [
    {
     "data": {
      "text/plain": [
       "array([[  1,  81,  81],\n",
       "       [  1,  16,   0],\n",
       "       [  9, 100,  16]])"
      ]
     },
     "execution_count": 34,
     "metadata": {},
     "output_type": "execute_result"
    }
   ],
   "source": [
    "# matrix and constant operations\n",
    "a ** 2"
   ]
  },
  {
   "cell_type": "code",
   "execution_count": 35,
   "metadata": {},
   "outputs": [
    {
     "name": "stdout",
     "output_type": "stream",
     "text": [
      "[[-11  -5   0]\n",
      " [ -5  -3   8]\n",
      " [ -8 -14  13]]\n",
      "[[  9 -13 -18]\n",
      " [  3  11  -8]\n",
      " [  2  -6  -5]]\n",
      "[[ 0.1        -2.25       -1.        ]\n",
      " [ 0.25       -0.57142857  0.        ]\n",
      " [ 0.6         2.5         0.44444444]]\n",
      "[[ 10 -36 -81]\n",
      " [  4 -28   0]\n",
      " [ 15  40  36]]\n",
      "[[  91   95 -162]\n",
      " [  -6  -32   23]\n",
      " [  50   42  -71]]\n"
     ]
    }
   ],
   "source": [
    "# same size matrix operations\n",
    "print(a + b)\n",
    "print(a - b)\n",
    "print(a / b)\n",
    "print(a * b)         # element wise multiplication\n",
    "print(a @ b)         # matrix multiplication"
   ]
  },
  {
   "cell_type": "code",
   "execution_count": 37,
   "metadata": {},
   "outputs": [
    {
     "data": {
      "text/plain": [
       "array([[  91,   95, -162],\n",
       "       [  -6,  -32,   23],\n",
       "       [  50,   42,  -71]])"
      ]
     },
     "execution_count": 37,
     "metadata": {},
     "output_type": "execute_result"
    }
   ],
   "source": [
    "# mm\n",
    "np.matmul(a,b)       "
   ]
  },
  {
   "cell_type": "code",
   "execution_count": null,
   "metadata": {},
   "outputs": [],
   "source": []
  }
 ],
 "metadata": {
  "kernelspec": {
   "display_name": "base",
   "language": "python",
   "name": "python3"
  },
  "language_info": {
   "codemirror_mode": {
    "name": "ipython",
    "version": 3
   },
   "file_extension": ".py",
   "mimetype": "text/x-python",
   "name": "python",
   "nbconvert_exporter": "python",
   "pygments_lexer": "ipython3",
   "version": "3.10.10"
  },
  "orig_nbformat": 4
 },
 "nbformat": 4,
 "nbformat_minor": 2
}
