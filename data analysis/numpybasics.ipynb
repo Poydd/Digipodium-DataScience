{
 "cells": [
  {
   "cell_type": "code",
   "execution_count": 4,
   "metadata": {},
   "outputs": [],
   "source": [
    "import numpy as np"
   ]
  },
  {
   "cell_type": "code",
   "execution_count": 2,
   "metadata": {},
   "outputs": [
    {
     "data": {
      "text/plain": [
       "array([2, 3, 4, 5])"
      ]
     },
     "execution_count": 2,
     "metadata": {},
     "output_type": "execute_result"
    }
   ],
   "source": [
    "np.array([2,3,4,5])"
   ]
  },
  {
   "cell_type": "code",
   "execution_count": 5,
   "metadata": {},
   "outputs": [
    {
     "name": "stdout",
     "output_type": "stream",
     "text": [
      "[2 3 4 5]\n",
      "[[1 2 3]\n",
      " [4 5 6]]\n",
      "[[1 3]\n",
      " [4 2]\n",
      " [2 1]\n",
      " [3 4]]\n"
     ]
    }
   ],
   "source": [
    "x = np.array([2,3,4,5])            # 1D array\n",
    "x2d = np.array([[1,2,3],[4,5,6]])      # 2D array\n",
    "x3d = np.array([[1,3],[4,2],[2,1],[3,4]])        # 3D array\n",
    "print(x)\n",
    "print(x2d)\n",
    "print(x3d)"
   ]
  },
  {
   "cell_type": "code",
   "execution_count": 7,
   "metadata": {},
   "outputs": [
    {
     "data": {
      "text/plain": [
       "array([0. , 0.2, 0.4, 0.6, 0.8, 1. , 1.2, 1.4, 1.6, 1.8, 2. , 2.2, 2.4,\n",
       "       2.6, 2.8, 3. , 3.2, 3.4, 3.6, 3.8, 4. , 4.2, 4.4, 4.6, 4.8, 5. ,\n",
       "       5.2, 5.4, 5.6, 5.8, 6. , 6.2, 6.4, 6.6, 6.8, 7. , 7.2, 7.4, 7.6,\n",
       "       7.8, 8. , 8.2, 8.4, 8.6, 8.8, 9. , 9.2, 9.4, 9.6, 9.8])"
      ]
     },
     "execution_count": 7,
     "metadata": {},
     "output_type": "execute_result"
    }
   ],
   "source": [
    "# sequential matrix, np.arange() and np.linspace()\n",
    "np.arange(0, 10, .2)          # 1D array answer"
   ]
  },
  {
   "cell_type": "code",
   "execution_count": 8,
   "metadata": {},
   "outputs": [
    {
     "data": {
      "text/plain": [
       "50"
      ]
     },
     "execution_count": 8,
     "metadata": {},
     "output_type": "execute_result"
    }
   ],
   "source": [
    "np.arange(0, 10, .2).size"
   ]
  },
  {
   "cell_type": "code",
   "execution_count": 9,
   "metadata": {},
   "outputs": [
    {
     "data": {
      "text/plain": [
       "array([[0. , 0.2, 0.4, 0.6, 0.8, 1. , 1.2, 1.4, 1.6, 1.8],\n",
       "       [2. , 2.2, 2.4, 2.6, 2.8, 3. , 3.2, 3.4, 3.6, 3.8],\n",
       "       [4. , 4.2, 4.4, 4.6, 4.8, 5. , 5.2, 5.4, 5.6, 5.8],\n",
       "       [6. , 6.2, 6.4, 6.6, 6.8, 7. , 7.2, 7.4, 7.6, 7.8],\n",
       "       [8. , 8.2, 8.4, 8.6, 8.8, 9. , 9.2, 9.4, 9.6, 9.8]])"
      ]
     },
     "execution_count": 9,
     "metadata": {},
     "output_type": "execute_result"
    }
   ],
   "source": [
    "np.arange(0, 10, .2).reshape(5, 10)"
   ]
  },
  {
   "cell_type": "code",
   "execution_count": 5,
   "metadata": {},
   "outputs": [
    {
     "data": {
      "text/plain": [
       "array([ 0.        ,  2.14285714,  4.28571429,  6.42857143,  8.57142857,\n",
       "       10.71428571, 12.85714286, 15.        , 17.14285714, 19.28571429,\n",
       "       21.42857143, 23.57142857, 25.71428571, 27.85714286, 30.        ])"
      ]
     },
     "execution_count": 5,
     "metadata": {},
     "output_type": "execute_result"
    }
   ],
   "source": [
    "np.linspace(0, 30, 15)"
   ]
  },
  {
   "cell_type": "code",
   "execution_count": 26,
   "metadata": {},
   "outputs": [
    {
     "data": {
      "text/plain": [
       "15"
      ]
     },
     "execution_count": 26,
     "metadata": {},
     "output_type": "execute_result"
    }
   ],
   "source": [
    "np.linspace(0, 30, 15).size"
   ]
  },
  {
   "cell_type": "code",
   "execution_count": 29,
   "metadata": {},
   "outputs": [
    {
     "data": {
      "text/plain": [
       "array([[ 0.        ,  2.14285714,  4.28571429],\n",
       "       [ 6.42857143,  8.57142857, 10.71428571],\n",
       "       [12.85714286, 15.        , 17.14285714],\n",
       "       [19.28571429, 21.42857143, 23.57142857],\n",
       "       [25.71428571, 27.85714286, 30.        ]])"
      ]
     },
     "execution_count": 29,
     "metadata": {},
     "output_type": "execute_result"
    }
   ],
   "source": [
    "np.linspace(0, 30, 15).reshape(5, 3)"
   ]
  },
  {
   "cell_type": "code",
   "execution_count": 32,
   "metadata": {},
   "outputs": [
    {
     "name": "stdout",
     "output_type": "stream",
     "text": [
      "[[0.65918482 0.5129355  0.05354335 0.19444395]\n",
      " [0.20010029 0.47906491 0.01348995 0.03972673]\n",
      " [0.26811282 0.59051066 0.63524469 0.06748196]\n",
      " [0.62954851 0.19670911 0.53749117 0.54046655]]\n",
      "[[0.04550144 0.39505237 0.32471385]\n",
      " [0.29854256 0.43524408 0.54982479]\n",
      " [0.90550807 0.32457233 0.48074968]]\n",
      "[[ -4 -10   6]\n",
      " [  9   0 -10]\n",
      " [  7   4  -7]]\n",
      "[[1.19822266 0.8863062  0.38708654]\n",
      " [1.53259271 1.94279828 0.52227268]\n",
      " [1.71093943 0.80483846 1.75747421]]\n",
      "[ 2  6  4  9 10  8  7  5  3  1]\n"
     ]
    }
   ],
   "source": [
    "# randomized matrix with np.random\n",
    "# np.random.rand()\n",
    "print(np.random.rand(4,4))    # 0 to 1\n",
    "print(np.random.rand(3,3))    # normal distribution\n",
    "print(np.random.randint(-10,10,(3,3)))  # random int from -10 to 10\n",
    "print(np.random.uniform(0,2,(3,3)))   # random float from 0 to 10\n",
    "print(np.random.permutation([1,2,3,4,5,6,7,8,9,10]))  # random permutation"
   ]
  },
  {
   "cell_type": "code",
   "execution_count": null,
   "metadata": {},
   "outputs": [],
   "source": [
    "xp = np.random.uniform"
   ]
  },
  {
   "cell_type": "markdown",
   "metadata": {},
   "source": [
    "operations"
   ]
  },
  {
   "cell_type": "code",
   "execution_count": 9,
   "metadata": {},
   "outputs": [
    {
     "name": "stdout",
     "output_type": "stream",
     "text": [
      "[[ 0  9 -2]\n",
      " [ 0  0 -8]\n",
      " [ 7 -7  2]]\n",
      "[[ 9  2  4]\n",
      " [-4 -8  9]\n",
      " [ 5 -8 -4]]\n"
     ]
    }
   ],
   "source": [
    "a = np.random.randint(-10,10,(3,3))\n",
    "b = np.random.randint(-10,10,(3,3))\n",
    "print(a)\n",
    "print(b)"
   ]
  },
  {
   "cell_type": "code",
   "execution_count": 34,
   "metadata": {},
   "outputs": [
    {
     "data": {
      "text/plain": [
       "array([[  1,  81,  81],\n",
       "       [  1,  16,   0],\n",
       "       [  9, 100,  16]])"
      ]
     },
     "execution_count": 34,
     "metadata": {},
     "output_type": "execute_result"
    }
   ],
   "source": [
    "# matrix and constant operations\n",
    "a ** 2"
   ]
  },
  {
   "cell_type": "code",
   "execution_count": 35,
   "metadata": {},
   "outputs": [
    {
     "name": "stdout",
     "output_type": "stream",
     "text": [
      "[[-11  -5   0]\n",
      " [ -5  -3   8]\n",
      " [ -8 -14  13]]\n",
      "[[  9 -13 -18]\n",
      " [  3  11  -8]\n",
      " [  2  -6  -5]]\n",
      "[[ 0.1        -2.25       -1.        ]\n",
      " [ 0.25       -0.57142857  0.        ]\n",
      " [ 0.6         2.5         0.44444444]]\n",
      "[[ 10 -36 -81]\n",
      " [  4 -28   0]\n",
      " [ 15  40  36]]\n",
      "[[  91   95 -162]\n",
      " [  -6  -32   23]\n",
      " [  50   42  -71]]\n"
     ]
    }
   ],
   "source": [
    "# same size matrix operations\n",
    "print(a + b)\n",
    "print(a - b)\n",
    "print(a / b)\n",
    "print(a * b)         # element wise multiplication\n",
    "print(a @ b)         # matrix multiplication"
   ]
  },
  {
   "cell_type": "code",
   "execution_count": 10,
   "metadata": {},
   "outputs": [
    {
     "data": {
      "text/plain": [
       "array([[-46, -56,  89],\n",
       "       [-40,  64,  32],\n",
       "       [101,  54, -43]])"
      ]
     },
     "execution_count": 10,
     "metadata": {},
     "output_type": "execute_result"
    }
   ],
   "source": [
    "# mm\n",
    "np.matmul(a,b)       "
   ]
  },
  {
   "cell_type": "markdown",
   "metadata": {},
   "source": [
    "indexing\n",
    "\n",
    "mat[row, col]\n",
    "\n",
    "2d slicing\n",
    "\n",
    "matrix[row_start : row_end, col_start : col_end]"
   ]
  },
  {
   "cell_type": "code",
   "execution_count": 12,
   "metadata": {},
   "outputs": [
    {
     "name": "stdout",
     "output_type": "stream",
     "text": [
      "[[16 12 17 13 14 19 14 15]\n",
      " [17 15 14 15 18 19 17 12]\n",
      " [19 16 17 15 19 18 15 17]\n",
      " [18 15 19 18 15 14 11 12]\n",
      " [18 11 11 17 19 18 18 19]\n",
      " [14 14 14 11 16 16 15 17]\n",
      " [12 16 19 14 11 17 18 16]\n",
      " [16 13 17 17 13 17 14 17]]\n"
     ]
    }
   ],
   "source": [
    "z = np.random.randint(11, 20, (8,8))\n",
    "print(z)"
   ]
  },
  {
   "cell_type": "code",
   "execution_count": 19,
   "metadata": {},
   "outputs": [
    {
     "name": "stdout",
     "output_type": "stream",
     "text": [
      "16 12 16\n",
      "fifth row [18 11 11 17 19 18 18 19]\n",
      "first column [16 17 19 18 18 14 12 16]\n",
      "last column [15 12 17 12 19 17 16 17]\n",
      "first 3 rows\n",
      " [[16 12 17 13 14 19 14 15]\n",
      " [17 15 14 15 18 19 17 12]\n",
      " [19 16 17 15 19 18 15 17]]\n",
      "first 3 columns\n",
      " [[16 12 17]\n",
      " [17 15 14]\n",
      " [19 16 17]\n",
      " [18 15 19]\n",
      " [18 11 11]\n",
      " [14 14 14]\n",
      " [12 16 19]\n",
      " [16 13 17]]\n",
      "[[16 12 17 13]\n",
      " [17 15 14 15]\n",
      " [19 16 17 15]\n",
      " [18 15 19 18]\n",
      " [18 11 11 17]\n",
      " [14 14 14 11]\n",
      " [12 16 19 14]\n",
      " [16 13 17 17]]\n"
     ]
    }
   ],
   "source": [
    "# single element indexing\n",
    "print(z[0,0], z[3,-1], z[5,5])\n",
    "\n",
    " # single row\n",
    "print('fifth row', z[4])   # 5th row (index 4)\n",
    "\n",
    "# single column\n",
    "print('first column',z[:,0])\n",
    "print('last column',z[:,-1])\n",
    "\n",
    "# multiple rows in sequence\n",
    "print('first 3 rows\\n', z[:3])      # first three rows  (index 0, 1 and 2)\n",
    "                        # ^ whole rows\n",
    "print('first 3 columns\\n',z[:,:3])  # first three column (index 0, 1 and 2)\n",
    "\n",
    "print(z[:,:4])"
   ]
  },
  {
   "cell_type": "markdown",
   "metadata": {},
   "source": [
    "BOOLEAN FILTER"
   ]
  },
  {
   "cell_type": "code",
   "execution_count": 15,
   "metadata": {},
   "outputs": [
    {
     "name": "stdout",
     "output_type": "stream",
     "text": [
      "[[3 3 1 1 5]\n",
      " [4 1 5 5 1]\n",
      " [3 3 3 5 3]\n",
      " [2 3 5 2 3]\n",
      " [1 2 4 3 1]]\n"
     ]
    }
   ],
   "source": [
    "x = np.random.randint(1,6, [5,5])\n",
    "print(x)"
   ]
  },
  {
   "cell_type": "code",
   "execution_count": 17,
   "metadata": {},
   "outputs": [
    {
     "data": {
      "text/plain": [
       "array([5, 4, 5, 5, 5, 5, 4])"
      ]
     },
     "execution_count": 17,
     "metadata": {},
     "output_type": "execute_result"
    }
   ],
   "source": [
    "x[x>3]"
   ]
  },
  {
   "cell_type": "code",
   "execution_count": 18,
   "metadata": {},
   "outputs": [
    {
     "name": "stdout",
     "output_type": "stream",
     "text": [
      "[[ -7  -1   6   8   9]\n",
      " [  4   9   5  -9   6]\n",
      " [ -8  -4  -1   2   2]\n",
      " [  9   2   2   0   9]\n",
      " [-10 -10   9  -4  -2]]\n"
     ]
    },
    {
     "data": {
      "text/plain": [
       "array([4, 5, 2, 2, 2, 2])"
      ]
     },
     "execution_count": 18,
     "metadata": {},
     "output_type": "execute_result"
    }
   ],
   "source": [
    "x = np.random.randint(-10, 10, (5,5))\n",
    "print(x)\n",
    "\n",
    "x[(x<6) & (x>0)] "
   ]
  },
  {
   "cell_type": "markdown",
   "metadata": {},
   "source": [
    "useful function in numpy"
   ]
  },
  {
   "cell_type": "code",
   "execution_count": 22,
   "metadata": {},
   "outputs": [
    {
     "name": "stdout",
     "output_type": "stream",
     "text": [
      "[[6 9 5 9 2]\n",
      " [3 2 7 4 3]\n",
      " [3 1 9 6 4]]\n",
      "[[6 3 3]\n",
      " [9 2 1]\n",
      " [5 7 9]\n",
      " [9 4 6]\n",
      " [2 3 4]]\n",
      "[[6 3 3]\n",
      " [9 2 1]\n",
      " [5 7 9]\n",
      " [9 4 6]\n",
      " [2 3 4]]\n",
      "[6 9 5 9 2 3 2 7 4 3 3 1 9 6 4]\n",
      "[6 9 5 9 2 3 2 7 4 3 3 1 9 6 4]\n",
      "[[6]\n",
      " [9]\n",
      " [5]\n",
      " [9]\n",
      " [2]\n",
      " [3]\n",
      " [2]\n",
      " [7]\n",
      " [4]\n",
      " [3]\n",
      " [3]\n",
      " [1]\n",
      " [9]\n",
      " [6]\n",
      " [4]]\n",
      "[[6 9 5 9 2 3 2 7 4 3 3 1 9 6 4]]\n"
     ]
    }
   ],
   "source": [
    "x = np.random.randint(1, 10,(3,5))\n",
    "print(x)\n",
    "print(x.transpose())\n",
    "print(x.T)\n",
    "\n",
    "\n",
    "# flatten\n",
    "print(x.flatten())\n",
    "print(x.ravel())      # any (n)d to 1d\n",
    "\n",
    "# reshape\n",
    "print(x.reshape(-1,1))    # make a 2d array with 1 column\n",
    "print(x.reshape(1, -1))   # make a 2d array with 1 row"
   ]
  },
  {
   "cell_type": "code",
   "execution_count": 25,
   "metadata": {},
   "outputs": [
    {
     "name": "stdout",
     "output_type": "stream",
     "text": [
      "[[1 2 3]\n",
      " [4 5 6]]\n",
      "[[3 2 1]\n",
      " [1 1 1]]\n",
      "[[1 2 3]\n",
      " [4 5 6]\n",
      " [3 2 1]\n",
      " [1 1 1]]\n",
      "[[1 2 3 3 2 1]\n",
      " [4 5 6 1 1 1]]\n"
     ]
    }
   ],
   "source": [
    "# concatenate\n",
    "x = np.array([[1,2,3], [4,5,6]])\n",
    "y = np.array([[3,2,1], [1,1,1]])\n",
    "print(x)\n",
    "print(y)\n",
    "print(np.concatenate([x,y], axis= 0))   # axis=0:row\n",
    "print(np.concatenate([x,y], axis= 1))  # axis=1:column\n",
    " "
   ]
  },
  {
   "cell_type": "code",
   "execution_count": 27,
   "metadata": {},
   "outputs": [
    {
     "name": "stdout",
     "output_type": "stream",
     "text": [
      "[[0 8 9]\n",
      " [8 8 2]\n",
      " [6 7 7]\n",
      " [3 4 3]]\n",
      "[[0 8 9 6 7 7]\n",
      " [8 8 2 3 4 3]]\n"
     ]
    }
   ],
   "source": [
    "a = np.random.randint(0,10,(2,3))\n",
    "b = np.random.randint(0,10,(2,3))\n",
    "print(np.vstack((a,b))) # vertical stack\n",
    "print(np.hstack((a,b))) # horizontal stack"
   ]
  },
  {
   "cell_type": "code",
   "execution_count": 28,
   "metadata": {},
   "outputs": [
    {
     "name": "stdout",
     "output_type": "stream",
     "text": [
      "[[0, 8, 9], [8, 8, 2]]\n"
     ]
    }
   ],
   "source": [
    "# to list\n",
    "print(a.tolist())\n",
    "# to a file\n",
    "np.savetxt('a.npy',a)"
   ]
  },
  {
   "cell_type": "code",
   "execution_count": 2,
   "metadata": {},
   "outputs": [],
   "source": [
    "import matplotlib.pyplot as plt"
   ]
  },
  {
   "cell_type": "code",
   "execution_count": 35,
   "metadata": {},
   "outputs": [
    {
     "data": {
      "text/plain": [
       "[<matplotlib.lines.Line2D at 0x1dec4979ed0>]"
      ]
     },
     "execution_count": 35,
     "metadata": {},
     "output_type": "execute_result"
    },
    {
     "data": {
      "image/png": "[encoded data removed]",
      "text/plain": [
       "<Figure size 640x480 with 1 Axes>"
      ]
     },
     "metadata": {},
     "output_type": "display_data"
    }
   ],
   "source": [
    "t = np.arange(-5, 5, .2)\n",
    "s1 = np.sin(t)  # sine values of each item\n",
    "plt.plot(t, s1,'gs--' )      # red dots with dashed line"
   ]
  },
  {
   "cell_type": "code",
   "execution_count": 10,
   "metadata": {},
   "outputs": [
    {
     "data": {
      "text/plain": [
       "[<matplotlib.lines.Line2D at 0x18a0a0c8040>]"
      ]
     },
     "execution_count": 10,
     "metadata": {},
     "output_type": "execute_result"
    },
    {
     "data": {
      "image/png": "[encoded data removed]",
      "text/plain": [
       "<Figure size 640x480 with 1 Axes>"
      ]
     },
     "metadata": {},
     "output_type": "display_data"
    }
   ],
   "source": [
    "t = np.arange(-10, 15, .2)\n",
    "s1 = np.sin(t)  # sine values of each item\n",
    "plt.plot(t, s1,'bo--' )      # blue dots with dashed line"
   ]
  },
  {
   "cell_type": "code",
   "execution_count": null,
   "metadata": {},
   "outputs": [],
   "source": []
  }
 ],
 "metadata": {
  "kernelspec": {
   "display_name": "base",
   "language": "python",
   "name": "python3"
  },
  "language_info": {
   "codemirror_mode": {
    "name": "ipython",
    "version": 3
   },
   "file_extension": ".py",
   "mimetype": "text/x-python",
   "name": "python",
   "nbconvert_exporter": "python",
   "pygments_lexer": "ipython3",
   "version": "3.10.10"
  },
  "orig_nbformat": 4
 },
 "nbformat": 4,
 "nbformat_minor": 2
}
