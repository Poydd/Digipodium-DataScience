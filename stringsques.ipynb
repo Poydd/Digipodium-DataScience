{
 "cells": [
  {
   "cell_type": "code",
   "execution_count": 2,
   "metadata": {},
   "outputs": [
    {
     "name": "stdout",
     "output_type": "stream",
     "text": [
      "vidudi\n"
     ]
    }
   ],
   "source": [
    "# create a string and print it\n",
    "name = 'vidudi'\n",
    "print(name)"
   ]
  },
  {
   "cell_type": "code",
   "execution_count": 3,
   "metadata": {},
   "outputs": [
    {
     "name": "stdout",
     "output_type": "stream",
     "text": [
      "6\n"
     ]
    }
   ],
   "source": [
    "# take a string input and print it's length\n",
    "print(len(name))"
   ]
  },
  {
   "cell_type": "code",
   "execution_count": 4,
   "metadata": {},
   "outputs": [
    {
     "name": "stdout",
     "output_type": "stream",
     "text": [
      "great\n"
     ]
    }
   ],
   "source": [
    "# print the last word of the string python is great using slicing\n",
    "x = 'python is great'\n",
    "print(x[-5:])"
   ]
  },
  {
   "cell_type": "code",
   "execution_count": 30,
   "metadata": {},
   "outputs": [
    {
     "name": "stdout",
     "output_type": "stream",
     "text": [
      "python\n",
      "is\n",
      "everywhere\n"
     ]
    }
   ],
   "source": [
    "# print the each word in different line of string python is everyehere\n",
    "y = 'python is everywhere'\n",
    "for words in y.split():\n",
    "    print(words)"
   ]
  },
  {
   "cell_type": "code",
   "execution_count": 31,
   "metadata": {},
   "outputs": [
    {
     "name": "stdout",
     "output_type": "stream",
     "text": [
      "dlrow olleh\n"
     ]
    }
   ],
   "source": [
    "# print the string hello world in reverse\n",
    "s = 'hello world'\n",
    "print(s[::-1])"
   ]
  },
  {
   "cell_type": "code",
   "execution_count": 33,
   "metadata": {},
   "outputs": [
    {
     "name": "stdout",
     "output_type": "stream",
     "text": [
      "HOW ARE YOU ?\n"
     ]
    }
   ],
   "source": [
    "# convert the string how are you in uppercase\n",
    "w = 'how are you ?'\n",
    "print(w.upper())"
   ]
  },
  {
   "cell_type": "code",
   "execution_count": 34,
   "metadata": {},
   "outputs": [
    {
     "name": "stdout",
     "output_type": "stream",
     "text": [
      "how is it going?\n"
     ]
    }
   ],
   "source": [
    "# convert the string how is it going in lower case\n",
    "m = 'HOW IS IT GOING?'\n",
    "print(m.lower())"
   ]
  },
  {
   "cell_type": "code",
   "execution_count": 41,
   "metadata": {},
   "outputs": [
    {
     "name": "stdout",
     "output_type": "stream",
     "text": [
      "python is easy to learn\n"
     ]
    }
   ],
   "source": [
    "# join the following list by spaces and print result\n",
    "a = ['python', 'is', 'easy', 'to', 'learn']\n",
    "print(' '.join(a))"
   ]
  },
  {
   "cell_type": "code",
   "execution_count": 44,
   "metadata": {},
   "outputs": [
    {
     "name": "stdout",
     "output_type": "stream",
     "text": [
      " python is everywhere\n",
      " python is easy to learn\n"
     ]
    }
   ],
   "source": [
    "# print a multiline string using a single print\n",
    "print(''' python is everywhere\n",
    " python is easy to learn''')"
   ]
  },
  {
   "cell_type": "code",
   "execution_count": 48,
   "metadata": {},
   "outputs": [
    {
     "name": "stdout",
     "output_type": "stream",
     "text": [
      "this is a string\n",
      "\n",
      "this is not a string\n"
     ]
    }
   ],
   "source": [
    "# print a string to move to new line '\\n' is used\n",
    "string = 'this is a string\\n'\n",
    "print(string)\n",
    "stringnot = 'this is not a string'\n",
    "print(stringnot)"
   ]
  },
  {
   "cell_type": "code",
   "execution_count": 49,
   "metadata": {},
   "outputs": [
    {
     "name": "stdout",
     "output_type": "stream",
     "text": [
      " variable is 15\n"
     ]
    }
   ],
   "source": [
    "# print a variable with some text using a single print function \n",
    "variable = 15\n",
    "print(f'variable is {15}')"
   ]
  },
  {
   "cell_type": "code",
   "execution_count": 52,
   "metadata": {},
   "outputs": [
    {
     "name": "stdout",
     "output_type": "stream",
     "text": [
      "python is great.\n"
     ]
    }
   ],
   "source": [
    "# concatenate the following strings and print the result\n",
    "s1 = 'python'\n",
    "s2 = 'is'\n",
    "s3 = 'great.'\n",
    "string = s1+' '+s2+' '+s3\n",
    "print(string)"
   ]
  },
  {
   "cell_type": "code",
   "execution_count": 53,
   "metadata": {},
   "outputs": [
    {
     "name": "stdout",
     "output_type": "stream",
     "text": [
      "####################\n"
     ]
    }
   ],
   "source": [
    "# print # 20 times without using a loop\n",
    "print('#'*20)"
   ]
  },
  {
   "cell_type": "code",
   "execution_count": 60,
   "metadata": {},
   "outputs": [
    {
     "name": "stdout",
     "output_type": "stream",
     "text": [
      "0.\n",
      "1.\n",
      "2.\n",
      "3.\n",
      "4.\n",
      "5.\n",
      "6.\n",
      "7.\n",
      "8.\n",
      "9.\n"
     ]
    }
   ],
   "source": [
    "\n",
    "for i in range(10):\n",
    "    print(f'{i}.')\n"
   ]
  },
  {
   "cell_type": "code",
   "execution_count": 66,
   "metadata": {},
   "outputs": [
    {
     "name": "stdout",
     "output_type": "stream",
     "text": [
      "p\n",
      "y\n",
      "t\n",
      "h\n",
      "o\n",
      "n\n",
      " \n",
      "i\n",
      "s\n",
      " \n",
      "e\n",
      "v\n",
      "e\n",
      "r\n",
      "y\n",
      "w\n",
      "h\n",
      "e\n",
      "r\n",
      "e\n"
     ]
    }
   ],
   "source": [
    "string = 'python is everywhere'\n",
    "for word in string:\n",
    " print(word)"
   ]
  },
  {
   "cell_type": "code",
   "execution_count": null,
   "metadata": {},
   "outputs": [],
   "source": []
  }
 ],
 "metadata": {
  "kernelspec": {
   "display_name": "base",
   "language": "python",
   "name": "python3"
  },
  "language_info": {
   "codemirror_mode": {
    "name": "ipython",
    "version": 3
   },
   "file_extension": ".py",
   "mimetype": "text/x-python",
   "name": "python",
   "nbconvert_exporter": "python",
   "pygments_lexer": "ipython3",
   "version": "3.10.10"
  },
  "orig_nbformat": 4
 },
 "nbformat": 4,
 "nbformat_minor": 2
}
