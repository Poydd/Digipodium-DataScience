{
 "cells": [
  {
   "cell_type": "code",
   "execution_count": 3,
   "metadata": {},
   "outputs": [
    {
     "name": "stdout",
     "output_type": "stream",
     "text": [
      "1\n",
      "2\n",
      "3\n",
      "4\n",
      "5\n",
      "6\n",
      "7\n",
      "8\n",
      "9\n",
      "10\n"
     ]
    }
   ],
   "source": [
    "for i in range(1,11):\n",
    "    print(i)"
   ]
  },
  {
   "cell_type": "code",
   "execution_count": 2,
   "metadata": {},
   "outputs": [
    {
     "name": "stdout",
     "output_type": "stream",
     "text": [
      "characterA ASCII value 65\n",
      "characterB ASCII value 66\n",
      "characterC ASCII value 67\n",
      "characterD ASCII value 68\n",
      "characterE ASCII value 69\n",
      "characterF ASCII value 70\n",
      "characterG ASCII value 71\n",
      "characterH ASCII value 72\n",
      "characterI ASCII value 73\n",
      "characterJ ASCII value 74\n",
      "characterK ASCII value 75\n",
      "characterL ASCII value 76\n",
      "characterM ASCII value 77\n",
      "characterN ASCII value 78\n",
      "characterO ASCII value 79\n",
      "characterP ASCII value 80\n",
      "characterQ ASCII value 81\n",
      "characterR ASCII value 82\n",
      "characterS ASCII value 83\n",
      "characterT ASCII value 84\n",
      "characterU ASCII value 85\n",
      "characterV ASCII value 86\n",
      "characterW ASCII value 87\n",
      "characterX ASCII value 88\n",
      "characterY ASCII value 89\n",
      "characterZ ASCII value 90\n"
     ]
    }
   ],
   "source": [
    "for letter in 'ABCDEFGHIJKLMNOPQRSTUVWXYZ':\n",
    "    ascii =  ord(letter)\n",
    "    print(f'character{letter} ASCII value {ascii}')"
   ]
  },
  {
   "cell_type": "code",
   "execution_count": 4,
   "metadata": {},
   "outputs": [
    {
     "name": "stdout",
     "output_type": "stream",
     "text": [
      "33 x 1 = 33\n",
      "33 x 2 = 66\n",
      "33 x 3 = 99\n",
      "33 x 4 = 132\n",
      "33 x 5 = 165\n",
      "33 x 6 = 198\n",
      "33 x 7 = 231\n",
      "33 x 8 = 264\n",
      "33 x 9 = 297\n",
      "33 x 10 = 330\n"
     ]
    }
   ],
   "source": [
    "n = int(input('enter a num'))\n",
    "for i in range(1,11):\n",
    "    m = n*i\n",
    "    print(f'{n} x {i} = {m}')"
   ]
  },
  {
   "cell_type": "code",
   "execution_count": 7,
   "metadata": {},
   "outputs": [
    {
     "name": "stdout",
     "output_type": "stream",
     "text": [
      "2550\n"
     ]
    }
   ],
   "source": [
    "s = 0\n",
    "for i in range(1,101):\n",
    "   if i % 2 == 0:\n",
    "      s = s+i\n",
    "print(s)      \n",
    "    \n",
    "    "
   ]
  },
  {
   "cell_type": "code",
   "execution_count": 3,
   "metadata": {},
   "outputs": [
    {
     "name": "stdout",
     "output_type": "stream",
     "text": [
      "2 is a prime number\n"
     ]
    }
   ],
   "source": [
    "n = int(input('enter a number'))\n",
    "i = 1\n",
    "c = 0\n",
    "while i <= n:\n",
    "    if  n % i == 0:\n",
    "         c = c+1\n",
    "    i = i+1\n",
    "if c == 2:\n",
    "    print(f'{n} is a prime number')\n",
    "else:\n",
    "     print(f'{n} is not a prime number')\n",
    "\n",
    "    \n"
   ]
  },
  {
   "cell_type": "code",
   "execution_count": 13,
   "metadata": {},
   "outputs": [
    {
     "name": "stdout",
     "output_type": "stream",
     "text": [
      "the factorial of 7 is 5040\n"
     ]
    }
   ],
   "source": [
    "n = int(input('enter a number'))\n",
    "factorial = 1\n",
    "if n < 0:\n",
    "    print(f'{n} not a factorial') \n",
    "else:\n",
    " for i in range(1,n+1):\n",
    "    factorial = factorial*i\n",
    "print(f'the factorial of {n} is {factorial}') \n"
   ]
  },
  {
   "cell_type": "code",
   "execution_count": 26,
   "metadata": {},
   "outputs": [
    {
     "name": "stdout",
     "output_type": "stream",
     "text": [
      "fibonacci series upto {limit} limit\n",
      "0 \n",
      "1 \n",
      "1 \n",
      "2 \n",
      "3 \n",
      "5 \n",
      "8 \n",
      "13 \n"
     ]
    }
   ],
   "source": [
    "a = 0\n",
    "b = 1\n",
    "limit = 15\n",
    "print('fibonacci series upto {limit} limit')\n",
    "while(a <= limit):\n",
    "    print(a, '' )\n",
    "    a,b = b, a+b\n"
   ]
  },
  {
   "cell_type": "code",
   "execution_count": 54,
   "metadata": {},
   "outputs": [
    {
     "name": "stdout",
     "output_type": "stream",
     "text": [
      "largest number in array 42\n"
     ]
    }
   ],
   "source": [
    "a = (1,42,12,21,34,33,12,9,3,38)\n",
    "max = a[0]  \n",
    "for i in a:\n",
    "  if i > max:\n",
    "    max = i\n",
    "    print(f'largest number in array {max}')\n",
    " "
   ]
  },
  {
   "cell_type": "code",
   "execution_count": 55,
   "metadata": {},
   "outputs": [
    {
     "name": "stdout",
     "output_type": "stream",
     "text": [
      "largest number in array 231\n",
      "smallest number in array 1\n"
     ]
    }
   ],
   "source": [
    "a = (23,231,45,75,32,76,32,65,53)\n",
    "max = a[0]\n",
    "min = a[0]\n",
    "for i in a:\n",
    "    if i > max:\n",
    "      max = i\n",
    "      print(f'largest number in array {max}')\n",
    "else:\n",
    "     i < min\n",
    "min = 1\n",
    "print(f'smallest number in array {min}')"
   ]
  },
  {
   "cell_type": "code",
   "execution_count": 52,
   "metadata": {},
   "outputs": [
    {
     "name": "stdout",
     "output_type": "stream",
     "text": [
      "smallest number in array 1\n"
     ]
    }
   ],
   "source": [
    "a = (21,3,213,57,34,56,78,32,78,43)\n",
    "min = a[0]\n",
    "for i in a:\n",
    "    if i < min:\n",
    "        min = 1\n",
    "        print(f'smallest number in array {min}')\n",
    "\n",
    "\n"
   ]
  },
  {
   "cell_type": "code",
   "execution_count": 91,
   "metadata": {},
   "outputs": [],
   "source": [
    "d = (input('enter a num'))\n",
    "sum = 0\n",
    "for d in str(n):\n",
    " sum += int(d)\n",
    "print = (sum)"
   ]
  },
  {
   "cell_type": "code",
   "execution_count": 2,
   "metadata": {},
   "outputs": [
    {
     "name": "stdout",
     "output_type": "stream",
     "text": [
      "     12345     6          6\n",
      "      1234     5         65\n",
      "       123     4        654\n",
      "        12     3       6543\n",
      "         1     2      65432\n",
      "         0     1     654321\n"
     ]
    }
   ],
   "source": [
    "num = 123456\n",
    "rev = 0\n",
    "while num > 0:\n",
    " last_digit = num % 10\n",
    " rev = rev * 10 + last_digit\n",
    " num = num // 10\n",
    " print(f'{num:10} {last_digit:5} {rev:10}')\n",
    "\n"
   ]
  },
  {
   "cell_type": "code",
   "execution_count": 7,
   "metadata": {},
   "outputs": [
    {
     "name": "stdout",
     "output_type": "stream",
     "text": [
      "the number is palindrome\n"
     ]
    }
   ],
   "source": [
    "\n",
    "p = input('enter a number')\n",
    "i = 0\n",
    "for i in range(len(p)):\n",
    "    if p[i]!= p[-1-i]:\n",
    "     print('the number is not palindrome')\n",
    "else:\n",
    "    print('the number is palindrome')"
   ]
  },
  {
   "cell_type": "code",
   "execution_count": 28,
   "metadata": {},
   "outputs": [],
   "source": [
    "yr = input('enter year')\n",
    "if (yr % 4) == 0:\n",
    "    print('leap year')\n",
    "else:\n",
    "    print('not a leap year')"
   ]
  },
  {
   "cell_type": "code",
   "execution_count": 25,
   "metadata": {},
   "outputs": [
    {
     "name": "stdout",
     "output_type": "stream",
     "text": [
      "average is 3.3333333333333335\n"
     ]
    }
   ],
   "source": [
    "num_list =[10, 20.5, 30]\n",
    "res1 = 0\n",
    "for num in num_list:\n",
    "    res1 += num\n",
    "    avg1 = res1 / len(num_list)\n",
    "    print(f'average is {avg1}')\n",
    "    break\n",
    "    print(f'sum is {res1}')\n",
    "    \n"
   ]
  },
  {
   "cell_type": "code",
   "execution_count": 27,
   "metadata": {},
   "outputs": [
    {
     "name": "stdout",
     "output_type": "stream",
     "text": [
      "sum is 10\n"
     ]
    }
   ],
   "source": [
    "num_list =[10, 20.5, 30]\n",
    "res1 = 0\n",
    "for num in num_list:\n",
    "    res1 += num\n",
    "    avg1 = res1 / len(num_list) \n",
    "    print(f'sum is {res1}')\n",
    "    break\n",
    "    print(f'average is {avg1}')\n"
   ]
  },
  {
   "cell_type": "code",
   "execution_count": 16,
   "metadata": {},
   "outputs": [
    {
     "name": "stdout",
     "output_type": "stream",
     "text": [
      "em si siht\n"
     ]
    }
   ],
   "source": [
    "sentence = 'this is me'\n",
    "for word in Sentence:\n",
    " newWords = Sentence[::-1]\n",
    "print(f'{newWords}') \n"
   ]
  },
  {
   "cell_type": "code",
   "execution_count": 1,
   "metadata": {},
   "outputs": [
    {
     "name": "stdout",
     "output_type": "stream",
     "text": [
      "number of vowels vidushi\n",
      "vowels vidushi\n"
     ]
    }
   ],
   "source": [
    "string = input('enter string')\n",
    "vowels = 0 \n",
    "for i in string:\n",
    "    if(i=='a' or i=='e' or i=='i' or i=='o' or i=='u' or i=='A' or i=='E' or i=='I' or i=='O' or i=='U'):\n",
    "     vowels = vowels + 1\n",
    "print(f'number of vowels {string}')\n",
    "print(f'vowels {string}')"
   ]
  },
  {
   "cell_type": "code",
   "execution_count": null,
   "metadata": {},
   "outputs": [],
   "source": []
  }
 ],
 "metadata": {
  "kernelspec": {
   "display_name": "base",
   "language": "python",
   "name": "python3"
  },
  "language_info": {
   "codemirror_mode": {
    "name": "ipython",
    "version": 3
   },
   "file_extension": ".py",
   "mimetype": "text/x-python",
   "name": "python",
   "nbconvert_exporter": "python",
   "pygments_lexer": "ipython3",
   "version": "3.10.10"
  },
  "orig_nbformat": 4
 },
 "nbformat": 4,
 "nbformat_minor": 2
}
