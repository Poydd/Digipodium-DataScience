{
 "cells": [
  {
   "cell_type": "code",
   "execution_count": 3,
   "metadata": {},
   "outputs": [
    {
     "name": "stdout",
     "output_type": "stream",
     "text": [
      "1\n",
      "2\n",
      "3\n",
      "4\n",
      "5\n",
      "6\n",
      "7\n",
      "8\n",
      "9\n",
      "10\n"
     ]
    }
   ],
   "source": [
    "for i in range(1,11):\n",
    "    print(i)"
   ]
  },
  {
   "cell_type": "code",
   "execution_count": 4,
   "metadata": {},
   "outputs": [
    {
     "name": "stdout",
     "output_type": "stream",
     "text": [
      "33 x 1 = 33\n",
      "33 x 2 = 66\n",
      "33 x 3 = 99\n",
      "33 x 4 = 132\n",
      "33 x 5 = 165\n",
      "33 x 6 = 198\n",
      "33 x 7 = 231\n",
      "33 x 8 = 264\n",
      "33 x 9 = 297\n",
      "33 x 10 = 330\n"
     ]
    }
   ],
   "source": [
    "n = int(input('enter a num'))\n",
    "for i in range(1,11):\n",
    "    m = n*i\n",
    "    print(f'{n} x {i} = {m}')"
   ]
  },
  {
   "cell_type": "code",
   "execution_count": 7,
   "metadata": {},
   "outputs": [
    {
     "name": "stdout",
     "output_type": "stream",
     "text": [
      "2550\n"
     ]
    }
   ],
   "source": [
    "s = 0\n",
    "for i in range(1,101):\n",
    "   if i % 2 == 0:\n",
    "      s = s+i\n",
    "print(s)      \n",
    "    \n",
    "    "
   ]
  },
  {
   "cell_type": "code",
   "execution_count": 3,
   "metadata": {},
   "outputs": [
    {
     "name": "stdout",
     "output_type": "stream",
     "text": [
      "2 is a prime number\n"
     ]
    }
   ],
   "source": [
    "n = int(input('enter a number'))\n",
    "i = 1\n",
    "c = 0\n",
    "while i <= n:\n",
    "    if  n % i == 0:\n",
    "         c = c+1\n",
    "    i = i+1\n",
    "if c == 2:\n",
    "    print(f'{n} is a prime number')\n",
    "else:\n",
    "     print(f'{n} is not a prime number')\n",
    "\n",
    "    \n"
   ]
  },
  {
   "cell_type": "code",
   "execution_count": 13,
   "metadata": {},
   "outputs": [
    {
     "name": "stdout",
     "output_type": "stream",
     "text": [
      "the factorial of 7 is 5040\n"
     ]
    }
   ],
   "source": [
    "n = int(input('enter a number'))\n",
    "factorial = 1\n",
    "if n < 0:\n",
    "    print(f'{n} not a factorial') \n",
    "else:\n",
    " for i in range(1,n+1):\n",
    "    factorial = factorial*i\n",
    "print(f'the factorial of {n} is {factorial}') \n"
   ]
  },
  {
   "cell_type": "code",
   "execution_count": 26,
   "metadata": {},
   "outputs": [
    {
     "name": "stdout",
     "output_type": "stream",
     "text": [
      "fibonacci series upto {limit} limit\n",
      "0 \n",
      "1 \n",
      "1 \n",
      "2 \n",
      "3 \n",
      "5 \n",
      "8 \n",
      "13 \n"
     ]
    }
   ],
   "source": [
    "a = 0\n",
    "b = 1\n",
    "limit = 15\n",
    "print('fibonacci series upto {limit} limit')\n",
    "while(a <= limit):\n",
    "    print(a, '' )\n",
    "    a,b = b, a+b\n",
    "    \n",
    "    \n",
    "    \n",
    "\n"
   ]
  },
  {
   "cell_type": "code",
   "execution_count": 54,
   "metadata": {},
   "outputs": [
    {
     "name": "stdout",
     "output_type": "stream",
     "text": [
      "largest number in array 42\n"
     ]
    }
   ],
   "source": [
    "a = (1,42,12,21,34,33,12,9,3,38)\n",
    "max = a[0]  \n",
    "for i in a:\n",
    "  if i > max:\n",
    "    max = i\n",
    "    print(f'largest number in array {max}')\n",
    " "
   ]
  },
  {
   "cell_type": "code",
   "execution_count": 55,
   "metadata": {},
   "outputs": [
    {
     "name": "stdout",
     "output_type": "stream",
     "text": [
      "largest number in array 231\n",
      "smallest number in array 1\n"
     ]
    }
   ],
   "source": [
    "a = (23,231,45,75,32,76,32,65,53)\n",
    "max = a[0]\n",
    "min = a[0]\n",
    "for i in a:\n",
    "    if i > max:\n",
    "      max = i\n",
    "      print(f'largest number in array {max}')\n",
    "else:\n",
    "     i < min\n",
    "min = 1\n",
    "print(f'smallest number in array {min}')"
   ]
  },
  {
   "cell_type": "code",
   "execution_count": 52,
   "metadata": {},
   "outputs": [
    {
     "name": "stdout",
     "output_type": "stream",
     "text": [
      "smallest number in array 1\n"
     ]
    }
   ],
   "source": [
    "a = (21,3,213,57,34,56,78,32,78,43)\n",
    "min = a[0]\n",
    "for i in a:\n",
    "    if i < min:\n",
    "        min = 1\n",
    "        print(f'smallest number in array {min}')\n",
    "\n",
    "\n"
   ]
  },
  {
   "cell_type": "code",
   "execution_count": null,
   "metadata": {},
   "outputs": [],
   "source": []
  },
  {
   "cell_type": "code",
   "execution_count": 91,
   "metadata": {},
   "outputs": [],
   "source": [
    "d = (input('enter a num'))\n",
    "sum = 0\n",
    "for d in str(n):\n",
    " sum += int(d)\n",
    "print = (sum)"
   ]
  },
  {
   "cell_type": "code",
   "execution_count": 2,
   "metadata": {},
   "outputs": [
    {
     "name": "stdout",
     "output_type": "stream",
     "text": [
      "     12345     6          6\n",
      "      1234     5         65\n",
      "       123     4        654\n",
      "        12     3       6543\n",
      "         1     2      65432\n",
      "         0     1     654321\n"
     ]
    }
   ],
   "source": [
    "num = 123456\n",
    "rev = 0\n",
    "while num > 0:\n",
    " last_digit = num % 10\n",
    " rev = rev * 10 + last_digit\n",
    " num = num // 10\n",
    " print(f'{num:10} {last_digit:5} {rev:10}')\n",
    "\n"
   ]
  },
  {
   "cell_type": "code",
   "execution_count": null,
   "metadata": {},
   "outputs": [],
   "source": [
    "\n",
    "p = input('enter a number')\n",
    "temp = p\n",
    "rev = 0\n",
    "while(n > 0):\n",
    "  dig = n % 10\n",
    "rev = rev * 10 + dig\n",
    "n = n/10\n",
    "if (s == p):\n",
    "    print('the number is palindrome')\n",
    "else:\n",
    "    print('the number is not palindrome')"
   ]
  },
  {
   "cell_type": "code",
   "execution_count": 37,
   "metadata": {},
   "outputs": [
    {
     "ename": "ValueError",
     "evalue": "invalid literal for int() with base 10: '21 23 4 3 55 65 564 231 2'",
     "output_type": "error",
     "traceback": [
      "\u001b[1;31m---------------------------------------------------------------------------\u001b[0m",
      "\u001b[1;31mValueError\u001b[0m                                Traceback (most recent call last)",
      "Cell \u001b[1;32mIn[37], line 3\u001b[0m\n\u001b[0;32m      1\u001b[0m \u001b[39mfrom\u001b[39;00m \u001b[39mstatistics\u001b[39;00m \u001b[39mimport\u001b[39;00m mean\n\u001b[1;32m----> 3\u001b[0m num \u001b[39m=\u001b[39m (\u001b[39mint\u001b[39;49m(\u001b[39minput\u001b[39;49m(\u001b[39m'\u001b[39;49m\u001b[39mhow many numbers ?\u001b[39;49m\u001b[39m'\u001b[39;49m)))\n\u001b[0;32m      4\u001b[0m total_sum \u001b[39m=\u001b[39m \u001b[39m0\u001b[39m\n\u001b[0;32m      5\u001b[0m \u001b[39mfor\u001b[39;00m n \u001b[39min\u001b[39;00m \u001b[39mrange\u001b[39m(num):\n",
      "\u001b[1;31mValueError\u001b[0m: invalid literal for int() with base 10: '21 23 4 3 55 65 564 231 2'"
     ]
    }
   ],
   "source": [
    "from statistics import mean\n",
    "\n",
    "num = (int(input('how many numbers ?')))\n",
    "total_sum = 0\n",
    "for n in range(num):\n",
    "    numbers = float(input('enter any number'))\n",
    "    total_sum += numbers\n",
    "    avg = total_sum / num\n",
    "\n",
    "    print(f'average is {a}')\n",
    "\n",
    "\n"
   ]
  }
 ],
 "metadata": {
  "kernelspec": {
   "display_name": "base",
   "language": "python",
   "name": "python3"
  },
  "language_info": {
   "codemirror_mode": {
    "name": "ipython",
    "version": 3
   },
   "file_extension": ".py",
   "mimetype": "text/x-python",
   "name": "python",
   "nbconvert_exporter": "python",
   "pygments_lexer": "ipython3",
   "version": "3.10.10"
  },
  "orig_nbformat": 4
 },
 "nbformat": 4,
 "nbformat_minor": 2
}
