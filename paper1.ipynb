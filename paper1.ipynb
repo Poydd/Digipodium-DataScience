{
 "cells": [
  {
   "cell_type": "code",
   "execution_count": 1,
   "metadata": {},
   "outputs": [
    {
     "data": {
      "text/plain": [
       "False"
      ]
     },
     "execution_count": 1,
     "metadata": {},
     "output_type": "execute_result"
    }
   ],
   "source": [
    "x = \"5\"\n",
    "y = 5\n",
    "x == y"
   ]
  },
  {
   "cell_type": "code",
   "execution_count": 3,
   "metadata": {},
   "outputs": [
    {
     "name": "stdout",
     "output_type": "stream",
     "text": [
      "we have 3 fruits\n"
     ]
    }
   ],
   "source": [
    "fruits = ['apple', 'banana', 'pear']\n",
    "if fruits:\n",
    "    print(f'we have {len(fruits)} fruits')"
   ]
  },
  {
   "cell_type": "code",
   "execution_count": 15,
   "metadata": {},
   "outputs": [],
   "source": [
    "fruitstring = 'banana, pear, apple'\n",
    "fruitlist = fruitstring.split(',')"
   ]
  },
  {
   "cell_type": "code",
   "execution_count": 16,
   "metadata": {},
   "outputs": [
    {
     "name": "stdout",
     "output_type": "stream",
     "text": [
      "['banana', ' pear', ' apple']\n"
     ]
    }
   ],
   "source": [
    "print(fruitlist)"
   ]
  },
  {
   "cell_type": "code",
   "execution_count": 17,
   "metadata": {},
   "outputs": [
    {
     "name": "stdout",
     "output_type": "stream",
     "text": [
      "['A', 'computer', 'would', 'deserve', 'to', 'be', 'called', 'intelligent', 'if', 'it', 'could', 'deceive', 'a', 'human', 'into', 'believing', 'that', 'it', 'was', 'human']\n"
     ]
    }
   ],
   "source": [
    "quotestring = \"A computer would deserve to be called intelligent if it could deceive a human into believing that it was human\"\n",
    "quotelist = quotestring.split(' ')\n",
    "print(quotelist)"
   ]
  },
  {
   "cell_type": "code",
   "execution_count": 18,
   "metadata": {},
   "outputs": [
    {
     "name": "stdout",
     "output_type": "stream",
     "text": [
      "True\n"
     ]
    }
   ],
   "source": [
    "numberoftwoletterwords = 0\n",
    "for word in quotelist:\n",
    " if len(word) == 2:\n",
    "  numberoftwoletterwords += 1\n",
    "print(numberoftwoletterwords == 5) "
   ]
  },
  {
   "cell_type": "code",
   "execution_count": 28,
   "metadata": {},
   "outputs": [
    {
     "name": "stdout",
     "output_type": "stream",
     "text": [
      "banana,pear,apple\n"
     ]
    }
   ],
   "source": [
    "fruitlist = ['banana', 'pear' ,'apple']\n",
    "delimiter =  ','\n",
    "fruitstring = delimiter.join(fruitlist)\n",
    "print(fruitstring)\n"
   ]
  },
  {
   "cell_type": "code",
   "execution_count": 30,
   "metadata": {},
   "outputs": [
    {
     "name": "stdout",
     "output_type": "stream",
     "text": [
      "Security found at position 32\n"
     ]
    }
   ],
   "source": [
    "text = \"We spend our time searching for security and hate it when we get it\"\n",
    "found = text.find('security')\n",
    "if  text == -1:\n",
    " print(\"No security found! :\")\n",
    "else:\n",
    " print(\"Security found at position \" + str(found))"
   ]
  },
  {
   "cell_type": "code",
   "execution_count": 62,
   "metadata": {},
   "outputs": [
    {
     "name": "stdout",
     "output_type": "stream",
     "text": [
      "You can not compare apples and pears\n"
     ]
    }
   ],
   "source": [
    "text = \"You can not compare apples and pears\"\n",
    "text = text.replace(\"pears\", \"pears\")\n",
    "text = text.replace(\"can\",\"can\")\n",
    "print(text)"
   ]
  },
  {
   "cell_type": "code",
   "execution_count": 63,
   "metadata": {},
   "outputs": [
    {
     "name": "stdout",
     "output_type": "stream",
     "text": [
      "Research has shown that it is often still possible to understand text even if all vowels are removed\n"
     ]
    }
   ],
   "source": [
    "text = \"Research has shown that it is often still possible to understand text even if all vowels are removed\"\n",
    "for vowel in (\"a\",\"i\",\"e\",\"o\",\"u\"):\n",
    "  vowel = text.replace(vowel,\"\")\n",
    "print(text)"
   ]
  },
  {
   "cell_type": "code",
   "execution_count": 39,
   "metadata": {},
   "outputs": [
    {
     "name": "stdout",
     "output_type": "stream",
     "text": [
      "strip me!\n"
     ]
    }
   ],
   "source": [
    "s = \" strip me! \"\n",
    "print(s.strip())"
   ]
  },
  {
   "cell_type": "code",
   "execution_count": 43,
   "metadata": {},
   "outputs": [
    {
     "name": "stdout",
     "output_type": "stream",
     "text": [
      "folgert karsdorp and maarten van gompel\n",
      "FOLGERT KARSDORP AND MAARTEN VAN GOMPEL\n"
     ]
    }
   ],
   "source": [
    "teachers = \"Folgert Karsdorp and Maarten van Gompel\"\n",
    "print(teachers.lower())\n",
    "print(teachers.upper())\n"
   ]
  },
  {
   "cell_type": "code",
   "execution_count": 44,
   "metadata": {},
   "outputs": [
    {
     "name": "stdout",
     "output_type": "stream",
     "text": [
      "5\n"
     ]
    }
   ],
   "source": [
    "words = [\"BlA\", \"plop\", \"blA\", \"Bla\", \"PLoP\", \"bLa\", \"pLop\", \"BLA\"]\n",
    "count = 0\n",
    "for word in words:\n",
    " if word.lower() == \"bla\":\n",
    "  count += 1\n",
    "print(count)"
   ]
  },
  {
   "cell_type": "code",
   "execution_count": 46,
   "metadata": {},
   "outputs": [
    {
     "name": "stdout",
     "output_type": "stream",
     "text": [
      "banana\n"
     ]
    }
   ],
   "source": [
    "fruittuple = ('banana','apple','pear')\n",
    "print(fruittuple[0])\n"
   ]
  },
  {
   "cell_type": "code",
   "execution_count": 47,
   "metadata": {},
   "outputs": [
    {
     "name": "stdout",
     "output_type": "stream",
     "text": [
      "4\n"
     ]
    }
   ],
   "source": [
    "fruitset = {'banana', 'apple', 'pear'}\n",
    "fruitset.add('banana') \n",
    "fruitset.add('orange')\n",
    "print(len(fruitset))"
   ]
  },
  {
   "cell_type": "code",
   "execution_count": 48,
   "metadata": {},
   "outputs": [
    {
     "name": "stdout",
     "output_type": "stream",
     "text": [
      "1\n",
      "5\n",
      "15\n"
     ]
    }
   ],
   "source": [
    "numbers = [1, 2, 3, 4, 5]\n",
    "print(min(numbers))\n",
    "print(max(numbers))\n",
    "print(sum(numbers))"
   ]
  },
  {
   "cell_type": "code",
   "execution_count": 49,
   "metadata": {},
   "outputs": [
    {
     "name": "stdout",
     "output_type": "stream",
     "text": [
      "[2, 4, 6, 8, 10]\n"
     ]
    }
   ],
   "source": [
    "numbers = [1, 2, 3, 4, 5 ]\n",
    "doublenumbers = [number*2 for number in numbers]\n",
    "print(doublenumbers)"
   ]
  },
  {
   "cell_type": "code",
   "execution_count": 51,
   "metadata": {},
   "outputs": [
    {
     "name": "stdout",
     "output_type": "stream",
     "text": [
      "[3, 4, 5, 6, 7]\n"
     ]
    }
   ],
   "source": [
    "numbers = [1, 2, 3, 4, 5]\n",
    "numbers = [number+2 for number in numbers]\n",
    "print(numbers)"
   ]
  },
  {
   "cell_type": "code",
   "execution_count": null,
   "metadata": {},
   "outputs": [],
   "source": []
  }
 ],
 "metadata": {
  "kernelspec": {
   "display_name": "base",
   "language": "python",
   "name": "python3"
  },
  "language_info": {
   "codemirror_mode": {
    "name": "ipython",
    "version": 3
   },
   "file_extension": ".py",
   "mimetype": "text/x-python",
   "name": "python",
   "nbconvert_exporter": "python",
   "pygments_lexer": "ipython3",
   "version": "3.10.10"
  },
  "orig_nbformat": 4
 },
 "nbformat": 4,
 "nbformat_minor": 2
}
