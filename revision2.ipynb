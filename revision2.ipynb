{
 "cells": [
  {
   "cell_type": "code",
   "execution_count": 3,
   "metadata": {},
   "outputs": [
    {
     "name": "stdout",
     "output_type": "stream",
     "text": [
      "colby\n"
     ]
    }
   ],
   "source": [
    "friends = ['karen', 'sam', 'colby']\n",
    "print(friends[2])"
   ]
  },
  {
   "cell_type": "code",
   "execution_count": 4,
   "metadata": {},
   "outputs": [
    {
     "name": "stdout",
     "output_type": "stream",
     "text": [
      "sam\n"
     ]
    }
   ],
   "source": [
    "\n",
    "print(friends[-2])"
   ]
  },
  {
   "cell_type": "code",
   "execution_count": 7,
   "metadata": {},
   "outputs": [
    {
     "name": "stdout",
     "output_type": "stream",
     "text": [
      "['sam', 'colby']\n"
     ]
    }
   ],
   "source": [
    "\n",
    "print(friends[1:])"
   ]
  },
  {
   "cell_type": "code",
   "execution_count": 8,
   "metadata": {},
   "outputs": [
    {
     "name": "stdout",
     "output_type": "stream",
     "text": [
      "[2, 3, 43, 42, 11]\n"
     ]
    }
   ],
   "source": [
    "numbers = [2, 3, 43, 42, 11]\n",
    "print(numbers)"
   ]
  },
  {
   "cell_type": "code",
   "execution_count": 10,
   "metadata": {},
   "outputs": [
    {
     "name": "stdout",
     "output_type": "stream",
     "text": [
      "['karen', 'sam', 'colby', 2, 3, 43, 42, 11]\n"
     ]
    }
   ],
   "source": [
    "friends = ['karen', 'sam', 'colby']\n",
    "numbers = [2, 3, 43, 42, 11]\n",
    "friends.extend(numbers)\n",
    "print(friends)\n"
   ]
  },
  {
   "cell_type": "code",
   "execution_count": 12,
   "metadata": {},
   "outputs": [
    {
     "name": "stdout",
     "output_type": "stream",
     "text": [
      "['karen', 'sam', 'colby', 'creed']\n"
     ]
    }
   ],
   "source": [
    "friends = ['karen', 'sam', 'colby']\n",
    "numbers = [2, 3, 43, 42, 11]\n",
    "friends.append('creed')\n",
    "print(friends)\n"
   ]
  },
  {
   "cell_type": "code",
   "execution_count": 14,
   "metadata": {},
   "outputs": [
    {
     "name": "stdout",
     "output_type": "stream",
     "text": [
      "['sam', 'colby']\n"
     ]
    }
   ],
   "source": [
    "friends = ['karen', 'sam', 'colby']\n",
    "numbers = [2, 3, 43, 42, 11]\n",
    "friends.remove('karen')\n",
    "print(friends)\n"
   ]
  },
  {
   "cell_type": "code",
   "execution_count": null,
   "metadata": {},
   "outputs": [],
   "source": []
  }
 ],
 "metadata": {
  "kernelspec": {
   "display_name": "base",
   "language": "python",
   "name": "python3"
  },
  "language_info": {
   "codemirror_mode": {
    "name": "ipython",
    "version": 3
   },
   "file_extension": ".py",
   "mimetype": "text/x-python",
   "name": "python",
   "nbconvert_exporter": "python",
   "pygments_lexer": "ipython3",
   "version": "3.10.10"
  },
  "orig_nbformat": 4
 },
 "nbformat": 4,
 "nbformat_minor": 2
}
