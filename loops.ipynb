{
 "cells": [
  {
   "cell_type": "code",
   "execution_count": 1,
   "metadata": {},
   "outputs": [
    {
     "data": {
      "text/plain": [
       "['1', '2', '3', '4', '5', '3']"
      ]
     },
     "execution_count": 1,
     "metadata": {},
     "output_type": "execute_result"
    }
   ],
   "source": [
    "x = 123453\n",
    "list(str(x))"
   ]
  },
  {
   "cell_type": "code",
   "execution_count": 6,
   "metadata": {},
   "outputs": [
    {
     "name": "stdout",
     "output_type": "stream",
     "text": [
      "10\n"
     ]
    }
   ],
   "source": [
    "movies = ['me before you',\n",
    "    'avengers',\n",
    "    'it',\n",
    "    'it 2',\n",
    "    'spiderman',\n",
    "    'the dark knight',\n",
    "    'rampage',\n",
    "    'iron man',\n",
    "    'titanic',\n",
    "    'avatar' ]\n",
    "print (len(movies))"
   ]
  },
  {
   "cell_type": "code",
   "execution_count": 7,
   "metadata": {},
   "outputs": [
    {
     "name": "stdout",
     "output_type": "stream",
     "text": [
      "me before you                            13 chars\n",
      "avengers                                 8 chars\n",
      "it                                       2 chars\n",
      "it 2                                     4 chars\n",
      "spiderman                                9 chars\n",
      "the dark knight                          15 chars\n",
      "rampage                                  7 chars\n",
      "iron man                                 8 chars\n",
      "titanic                                  7 chars\n",
      "avatar                                   6 chars\n"
     ]
    }
   ],
   "source": [
    "for title in movies:\n",
    "    print(f'{title:40} {len(title)} chars')"
   ]
  },
  {
   "cell_type": "code",
   "execution_count": 10,
   "metadata": {},
   "outputs": [
    {
     "name": "stdout",
     "output_type": "stream",
     "text": [
      "avengers                                 8 chars\n",
      "spiderman                                9 chars\n",
      "the dark knight                          15 chars\n",
      "rampage                                  7 chars\n",
      "iron man                                 8 chars\n",
      "titanic                                  7 chars\n",
      "avatar                                   6 chars\n"
     ]
    }
   ],
   "source": [
    "for title in movies:\n",
    "  if 'a' in title:\n",
    "    print(f'{title:40} {len(title)} chars')"
   ]
  },
  {
   "cell_type": "code",
   "execution_count": 16,
   "metadata": {},
   "outputs": [
    {
     "name": "stdout",
     "output_type": "stream",
     "text": [
      "10\n"
     ]
    }
   ],
   "source": [
    "books = [\n",
    " ['Warbreaker','Brandon Sanderson',10],\n",
    "['Don Quixote','Miguel de Cervantes',10],\n",
    "['Lord of the Rings',' J.R.R. Tolkien',10],\n",
    "['The hero of ages','Brandon Sanderson',10],\n",
    "['Rythem of war','Brandon Sanderson',10],\n",
    "['The eye of the world','vidhushi',10],\n",
    "['Beach Red','Emily Henry',10],\n",
    "['Vision in white','Nora Roberts',10],\n",
    "['The Outlander','Diana Gabaldon',10],\n",
    "['The hating game','Sally Throne',10]\n",
    "]\n",
    "print(len(books))"
   ]
  },
  {
   "cell_type": "code",
   "execution_count": 17,
   "metadata": {},
   "outputs": [
    {
     "name": "stdout",
     "output_type": "stream",
     "text": [
      "Warbreaker\n",
      "\n",
      "Brandon Sanderson\n",
      "\n",
      "10\n",
      "\n",
      "Don Quixote\n",
      "\n",
      "Miguel de Cervantes\n",
      "\n",
      "10\n",
      "\n",
      "Lord of the Rings\n",
      "\n",
      " J.R.R. Tolkien\n",
      "\n",
      "10\n",
      "\n",
      "The hero of ages\n",
      "\n",
      "Brandon Sanderson\n",
      "\n",
      "10\n",
      "\n",
      "Rythem of war\n",
      "\n",
      "Brandon Sanderson\n",
      "\n",
      "10\n",
      "\n",
      "The eye of the world\n",
      "\n",
      "vidhushi\n",
      "\n",
      "10\n",
      "\n",
      "Beach Red\n",
      "\n",
      "Emily Henry\n",
      "\n",
      "10\n",
      "\n",
      "Vision in white\n",
      "\n",
      "Nora Roberts\n",
      "\n",
      "10\n",
      "\n",
      "The Outlander\n",
      "\n",
      "Diana Gabaldon\n",
      "\n",
      "10\n",
      "\n",
      "The hating game\n",
      "\n",
      "Sally Throne\n",
      "\n",
      "10\n",
      "\n"
     ]
    }
   ],
   "source": [
    "for book in books:\n",
    "    for field in book:\n",
    "        print(field)\n",
    "        print()"
   ]
  },
  {
   "cell_type": "code",
   "execution_count": 18,
   "metadata": {},
   "outputs": [
    {
     "name": "stdout",
     "output_type": "stream",
     "text": [
      "title: Warbreaker\n",
      "author: Brandon Sanderson\n",
      "rating: 10\n",
      "\n",
      "title: Don Quixote\n",
      "author: Miguel de Cervantes\n",
      "rating: 10\n",
      "\n",
      "title: Lord of the Rings\n",
      "author:  J.R.R. Tolkien\n",
      "rating: 10\n",
      "\n",
      "title: The hero of ages\n",
      "author: Brandon Sanderson\n",
      "rating: 10\n",
      "\n",
      "title: Rythem of war\n",
      "author: Brandon Sanderson\n",
      "rating: 10\n",
      "\n",
      "title: The eye of the world\n",
      "author: vidhushi\n",
      "rating: 10\n",
      "\n",
      "title: Beach Red\n",
      "author: Emily Henry\n",
      "rating: 10\n",
      "\n",
      "title: Vision in white\n",
      "author: Nora Roberts\n",
      "rating: 10\n",
      "\n",
      "title: The Outlander\n",
      "author: Diana Gabaldon\n",
      "rating: 10\n",
      "\n",
      "title: The hating game\n",
      "author: Sally Throne\n",
      "rating: 10\n",
      "\n"
     ]
    }
   ],
   "source": [
    "for book in books:\n",
    "    print(f'title: {book[0]}')\n",
    "    print(f'author: {book[1]}')\n",
    "    print(f'rating: {book[2]}')\n",
    "    print()\n",
    "\n"
   ]
  },
  {
   "cell_type": "code",
   "execution_count": 1,
   "metadata": {},
   "outputs": [
    {
     "name": "stdout",
     "output_type": "stream",
     "text": [
      "239\n",
      "455\n",
      "133\n",
      "5748\n",
      "None\n",
      "4000\n",
      "300\n",
      "100\n"
     ]
    }
   ],
   "source": [
    "prices = [239,455,133,5748,None,4000,300,100]\n",
    "\n",
    "for price in prices:\n",
    "    print(price)"
   ]
  },
  {
   "cell_type": "code",
   "execution_count": 2,
   "metadata": {},
   "outputs": [
    {
     "name": "stdout",
     "output_type": "stream",
     "text": [
      "239\n",
      "455\n",
      "133\n",
      "5748\n"
     ]
    }
   ],
   "source": [
    "prices = [239,455,133,5748,None,4000,300,100]\n",
    "\n",
    "for price in prices:\n",
    "    if price is None:\n",
    "        break\n",
    "    print(price)"
   ]
  },
  {
   "cell_type": "code",
   "execution_count": 3,
   "metadata": {},
   "outputs": [
    {
     "name": "stdout",
     "output_type": "stream",
     "text": [
      "149\n",
      "223\n",
      "444\n",
      "190\n",
      "322\n",
      "903\n",
      "99\n"
     ]
    }
   ],
   "source": [
    "data = [149,None,223,444,190,None,322,903,None,99,]\n",
    "\n",
    "for price in data:\n",
    "    if price is None:\n",
    "        continue\n",
    "    print(price)\n"
   ]
  },
  {
   "cell_type": "code",
   "execution_count": 5,
   "metadata": {},
   "outputs": [
    {
     "name": "stdout",
     "output_type": "stream",
     "text": [
      "0 Alexa\n",
      "1 Mac\n",
      "2 Harry\n",
      "3 Vidushi\n"
     ]
    }
   ],
   "source": [
    "names = ['Alexa','Mac','Harry','Vidushi']\n",
    "for idx,name in enumerate(names):\n",
    "    print(idx,name)"
   ]
  },
  {
   "cell_type": "code",
   "execution_count": 10,
   "metadata": {},
   "outputs": [
    {
     "name": "stdout",
     "output_type": "stream",
     "text": [
      "(0, 'Alexa')\n",
      "(1, 'Mac')\n",
      "(2, 'Harry')\n",
      "(3, 'Vidushi')\n"
     ]
    }
   ],
   "source": [
    "names = ['Alexa', 'Mac', 'Harry', 'Vidushi']\n",
    "\n",
    "for name in enumerate(names):\n",
    "    print(name)"
   ]
  },
  {
   "cell_type": "code",
   "execution_count": 15,
   "metadata": {},
   "outputs": [
    {
     "name": "stdout",
     "output_type": "stream",
     "text": [
      "bread🍞        20     2    40\n",
      "milk🥛         30     1    30\n",
      "butter🧈       10     2    20\n",
      "cheese🧀       50     1    50\n"
     ]
    }
   ],
   "source": [
    "grocery = ['bread🍞', 'milk🥛', 'butter🧈', 'cheese🧀']\n",
    "prices = [20, 30, 10, 50]\n",
    "qtys = [2, 1, 2, 1]\n",
    "\n",
    "for g, p, q in  zip(grocery, prices, qtys):\n",
    "    print(f'{g:10} {p:5} {q:5} {p*q:5}')"
   ]
  },
  {
   "cell_type": "code",
   "execution_count": 16,
   "metadata": {},
   "outputs": [
    {
     "name": "stdout",
     "output_type": "stream",
     "text": [
      "2\n",
      "5\n"
     ]
    }
   ],
   "source": [
    "num = 10\n",
    "for i in range(2,num):\n",
    "    if num % i == 0:\n",
    "        print(i)"
   ]
  },
  {
   "cell_type": "code",
   "execution_count": 17,
   "metadata": {},
   "outputs": [
    {
     "name": "stdout",
     "output_type": "stream",
     "text": [
      "50 => not a prime\n",
      "2\n",
      "50 => not a prime\n",
      "5\n",
      "50 => not a prime\n",
      "10\n",
      "50 => not a prime\n",
      "25\n"
     ]
    }
   ],
   "source": [
    "num = 50\n",
    "for i in range(2,num):\n",
    "    if num % i == 0:\n",
    "        print (f'{num} => not a prime')\n",
    "        print(i)"
   ]
  },
  {
   "cell_type": "code",
   "execution_count": 18,
   "metadata": {},
   "outputs": [
    {
     "name": "stdout",
     "output_type": "stream",
     "text": [
      "50 => not a prime\n"
     ]
    }
   ],
   "source": [
    "num = 50\n",
    "for i in range(2,num):\n",
    "    if num % i == 0:\n",
    "        print (f'{num} => not a prime')\n",
    "        break\n",
    "    else:\n",
    "        print(f'{num} =>prime')"
   ]
  },
  {
   "cell_type": "code",
   "execution_count": 23,
   "metadata": {},
   "outputs": [
    {
     "name": "stdout",
     "output_type": "stream",
     "text": [
      "0 => prime\n"
     ]
    }
   ],
   "source": [
    "\n",
    "n = int(input('enter a number'))\n",
    "i = 1\n",
    "c = 0\n",
    "while i <= n:\n",
    "    if n % i == 0:\n",
    "        c = c+1\n",
    "    i = i+1\n",
    "if c == 2:\n",
    "    print(f'{num} => prime')\n",
    "else:\n",
    "    print(f'{num} =>not a prime')"
   ]
  },
  {
   "cell_type": "code",
   "execution_count": 19,
   "metadata": {},
   "outputs": [
    {
     "name": "stdout",
     "output_type": "stream",
     "text": [
      "     12345     6          6\n",
      "      1234     5         65\n",
      "       123     4        654\n",
      "        12     3       6543\n",
      "         1     2      65432\n",
      "         0     1     654321\n"
     ]
    }
   ],
   "source": [
    "num = 123456\n",
    "rev = 0\n",
    "while num > 0:\n",
    "    last_digit = num % 10 # remainder\n",
    "    rev = rev * 10 + last_digit\n",
    "    num = num // 10 # quotient\n",
    "    print(f'{num:10} {last_digit:5} {rev:10}')\n"
   ]
  },
  {
   "cell_type": "code",
   "execution_count": 1,
   "metadata": {},
   "outputs": [
    {
     "name": "stdout",
     "output_type": "stream",
     "text": [
      "logged in\n"
     ]
    }
   ],
   "source": [
    "username = 'admin'\n",
    "password = 'admin123'\n",
    "while True:\n",
    "    u = input('username:')\n",
    "    p = input('password:')\n",
    "    if u == username and p == password:\n",
    "        print('logged in')\n",
    "        break\n",
    "    else:\n",
    "        print('invalid')\n",
    "        continue"
   ]
  }
 ],
 "metadata": {
  "kernelspec": {
   "display_name": "base",
   "language": "python",
   "name": "python3"
  },
  "language_info": {
   "codemirror_mode": {
    "name": "ipython",
    "version": 3
   },
   "file_extension": ".py",
   "mimetype": "text/x-python",
   "name": "python",
   "nbconvert_exporter": "python",
   "pygments_lexer": "ipython3",
   "version": "3.10.10"
  },
  "orig_nbformat": 4
 },
 "nbformat": 4,
 "nbformat_minor": 2
}
