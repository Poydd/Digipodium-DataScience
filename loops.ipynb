{
 "cells": [
  {
   "cell_type": "code",
   "execution_count": 1,
   "metadata": {},
   "outputs": [
    {
     "data": {
      "text/plain": [
       "['1', '2', '3', '4', '5', '3']"
      ]
     },
     "execution_count": 1,
     "metadata": {},
     "output_type": "execute_result"
    }
   ],
   "source": [
    "x = 123453\n",
    "list(str(x))"
   ]
  },
  {
   "cell_type": "code",
   "execution_count": 6,
   "metadata": {},
   "outputs": [
    {
     "name": "stdout",
     "output_type": "stream",
     "text": [
      "10\n"
     ]
    }
   ],
   "source": [
    "movies = ['me before you',\n",
    "    'avengers',\n",
    "    'it',\n",
    "    'it 2',\n",
    "    'spiderman',\n",
    "    'the dark knight',\n",
    "    'rampage',\n",
    "    'iron man',\n",
    "    'titanic',\n",
    "    'avatar' ]\n",
    "print (len(movies))"
   ]
  },
  {
   "cell_type": "code",
   "execution_count": 7,
   "metadata": {},
   "outputs": [
    {
     "name": "stdout",
     "output_type": "stream",
     "text": [
      "me before you                            13 chars\n",
      "avengers                                 8 chars\n",
      "it                                       2 chars\n",
      "it 2                                     4 chars\n",
      "spiderman                                9 chars\n",
      "the dark knight                          15 chars\n",
      "rampage                                  7 chars\n",
      "iron man                                 8 chars\n",
      "titanic                                  7 chars\n",
      "avatar                                   6 chars\n"
     ]
    }
   ],
   "source": [
    "for title in movies:\n",
    "    print(f'{title:40} {len(title)} chars')"
   ]
  },
  {
   "cell_type": "code",
   "execution_count": 10,
   "metadata": {},
   "outputs": [
    {
     "name": "stdout",
     "output_type": "stream",
     "text": [
      "avengers                                 8 chars\n",
      "spiderman                                9 chars\n",
      "the dark knight                          15 chars\n",
      "rampage                                  7 chars\n",
      "iron man                                 8 chars\n",
      "titanic                                  7 chars\n",
      "avatar                                   6 chars\n"
     ]
    }
   ],
   "source": [
    "for title in movies:\n",
    "  if 'a' in title:\n",
    "    print(f'{title:40} {len(title)} chars')"
   ]
  },
  {
   "cell_type": "code",
   "execution_count": 16,
   "metadata": {},
   "outputs": [
    {
     "name": "stdout",
     "output_type": "stream",
     "text": [
      "10\n"
     ]
    }
   ],
   "source": [
    "books = [\n",
    " ['Warbreaker','Brandon Sanderson',10],\n",
    "['Don Quixote','Miguel de Cervantes',10],\n",
    "['Lord of the Rings',' J.R.R. Tolkien',10],\n",
    "['The hero of ages','Brandon Sanderson',10],\n",
    "['Rythem of war','Brandon Sanderson',10],\n",
    "['The eye of the world','vidhushi',10],\n",
    "['Beach Red','Emily Henry',10],\n",
    "['Vision in white','Nora Roberts',10],\n",
    "['The Outlander','Diana Gabaldon',10],\n",
    "['The hating game','Sally Throne',10]\n",
    "]\n",
    "print(len(books))"
   ]
  },
  {
   "cell_type": "code",
   "execution_count": 17,
   "metadata": {},
   "outputs": [
    {
     "name": "stdout",
     "output_type": "stream",
     "text": [
      "Warbreaker\n",
      "\n",
      "Brandon Sanderson\n",
      "\n",
      "10\n",
      "\n",
      "Don Quixote\n",
      "\n",
      "Miguel de Cervantes\n",
      "\n",
      "10\n",
      "\n",
      "Lord of the Rings\n",
      "\n",
      " J.R.R. Tolkien\n",
      "\n",
      "10\n",
      "\n",
      "The hero of ages\n",
      "\n",
      "Brandon Sanderson\n",
      "\n",
      "10\n",
      "\n",
      "Rythem of war\n",
      "\n",
      "Brandon Sanderson\n",
      "\n",
      "10\n",
      "\n",
      "The eye of the world\n",
      "\n",
      "vidhushi\n",
      "\n",
      "10\n",
      "\n",
      "Beach Red\n",
      "\n",
      "Emily Henry\n",
      "\n",
      "10\n",
      "\n",
      "Vision in white\n",
      "\n",
      "Nora Roberts\n",
      "\n",
      "10\n",
      "\n",
      "The Outlander\n",
      "\n",
      "Diana Gabaldon\n",
      "\n",
      "10\n",
      "\n",
      "The hating game\n",
      "\n",
      "Sally Throne\n",
      "\n",
      "10\n",
      "\n"
     ]
    }
   ],
   "source": [
    "for book in books:\n",
    "    for field in book:\n",
    "        print(field)\n",
    "        print()"
   ]
  },
  {
   "cell_type": "code",
   "execution_count": 18,
   "metadata": {},
   "outputs": [
    {
     "name": "stdout",
     "output_type": "stream",
     "text": [
      "title: Warbreaker\n",
      "author: Brandon Sanderson\n",
      "rating: 10\n",
      "\n",
      "title: Don Quixote\n",
      "author: Miguel de Cervantes\n",
      "rating: 10\n",
      "\n",
      "title: Lord of the Rings\n",
      "author:  J.R.R. Tolkien\n",
      "rating: 10\n",
      "\n",
      "title: The hero of ages\n",
      "author: Brandon Sanderson\n",
      "rating: 10\n",
      "\n",
      "title: Rythem of war\n",
      "author: Brandon Sanderson\n",
      "rating: 10\n",
      "\n",
      "title: The eye of the world\n",
      "author: vidhushi\n",
      "rating: 10\n",
      "\n",
      "title: Beach Red\n",
      "author: Emily Henry\n",
      "rating: 10\n",
      "\n",
      "title: Vision in white\n",
      "author: Nora Roberts\n",
      "rating: 10\n",
      "\n",
      "title: The Outlander\n",
      "author: Diana Gabaldon\n",
      "rating: 10\n",
      "\n",
      "title: The hating game\n",
      "author: Sally Throne\n",
      "rating: 10\n",
      "\n"
     ]
    }
   ],
   "source": [
    "for book in books:\n",
    "    print(f'title: {book[0]}')\n",
    "    print(f'author: {book[1]}')\n",
    "    print(f'rating: {book[2]}')\n",
    "    print()\n"
   ]
  }
 ],
 "metadata": {
  "kernelspec": {
   "display_name": "base",
   "language": "python",
   "name": "python3"
  },
  "language_info": {
   "codemirror_mode": {
    "name": "ipython",
    "version": 3
   },
   "file_extension": ".py",
   "mimetype": "text/x-python",
   "name": "python",
   "nbconvert_exporter": "python",
   "pygments_lexer": "ipython3",
   "version": "3.10.10"
  },
  "orig_nbformat": 4
 },
 "nbformat": 4,
 "nbformat_minor": 2
}
