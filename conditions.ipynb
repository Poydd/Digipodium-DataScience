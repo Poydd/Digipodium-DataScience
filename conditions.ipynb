{
 "cells": [
  {
   "cell_type": "code",
   "execution_count": null,
   "metadata": {},
   "outputs": [],
   "source": []
  },
  {
   "attachments": {},
   "cell_type": "markdown",
   "metadata": {},
   "source": [
    "## true value\n",
    "-True\n",
    "-any non empty number\n",
    "-any non empty string\n",
    "-any non empty data structure\n",
    "\n",
    "## false value\n",
    "-False\n",
    "-0\n",
    "-empty string\n",
    "-empty data structure\n"
   ]
  },
  {
   "attachments": {},
   "cell_type": "markdown",
   "metadata": {},
   "source": [
    "## python block of code\n",
    "\n",
    "keyword expression\n",
    " statement 1\n",
    " statement 2\n",
    " ...\n",
    " statement n\n",
    "statement outside block\n",
    "\n",
    "4 spaces or 1 tab = 1 identation"
   ]
  },
  {
   "cell_type": "code",
   "execution_count": 4,
   "metadata": {},
   "outputs": [
    {
     "name": "stdout",
     "output_type": "stream",
     "text": [
      "x is bigger than 25\n"
     ]
    }
   ],
   "source": [
    "x = 30\n",
    "if x > 25:\n",
    "    print ('x is bigger than 25')"
   ]
  },
  {
   "cell_type": "markdown",
   "metadata": {},
   "source": []
  },
  {
   "cell_type": "code",
   "execution_count": 6,
   "metadata": {},
   "outputs": [
    {
     "name": "stdout",
     "output_type": "stream",
     "text": [
      "x is bigger than 10\n",
      "the end\n"
     ]
    }
   ],
   "source": [
    "x = int(input('enter a number'))\n",
    "if x > 10:\n",
    "    print('x is bigger than 10')\n",
    "if x > 50:\n",
    "    print('x is greater than 50')\n",
    "if x > 1\n",
    "00:\n",
    "    print('x is greater than 100')\n",
    "if x <= 0:\n",
    "    print('x is smaller than or equal to 10')\n",
    "print(\"the end\")"
   ]
  },
  {
   "cell_type": "code",
   "execution_count": 7,
   "metadata": {},
   "outputs": [
    {
     "name": "stdout",
     "output_type": "stream",
     "text": [
      "number is even\n"
     ]
    }
   ],
   "source": [
    "x = int(input('enter a number'))\n",
    "if (x%2==0):\n",
    "    print('number is even')\n",
    "if (x%2==1):\n",
    "    print('number is odd')"
   ]
  },
  {
   "cell_type": "code",
   "execution_count": 8,
   "metadata": {},
   "outputs": [
    {
     "name": "stdout",
     "output_type": "stream",
     "text": [
      "number is odd\n"
     ]
    }
   ],
   "source": [
    "x = int(input('enter a number'))\n",
    "if (x%2==0):\n",
    "    print('number is even')\n",
    "else:\n",
    "    print('number is odd')"
   ]
  },
  {
   "cell_type": "code",
   "execution_count": 9,
   "metadata": {},
   "outputs": [
    {
     "name": "stdout",
     "output_type": "stream",
     "text": [
      "a is the biggest number\n"
     ]
    }
   ],
   "source": [
    "a = 20\n",
    "b = 10\n",
    "c = 5\n",
    "if a > b and a > c:\n",
    "    print('a is the biggest number')\n",
    "if b > a and b > c:\n",
    "    print('b is the biggest number')\n",
    "if c > a and C > b:\n",
    "    print('c is the biggest number')"
   ]
  },
  {
   "cell_type": "code",
   "execution_count": 15,
   "metadata": {},
   "outputs": [
    {
     "name": "stdout",
     "output_type": "stream",
     "text": [
      "a is the biggest number\n"
     ]
    }
   ],
   "source": [
    "a = 20\n",
    "b = 10\n",
    "c = 5\n",
    "if a > b and a > c:\n",
    "    print('a is the biggest number')\n",
    "elif b > a and b > c:\n",
    "    print('b is the biggest number')\n",
    "else:\n",
    "    print('c is the biggest number')"
   ]
  },
  {
   "cell_type": "code",
   "execution_count": 13,
   "metadata": {},
   "outputs": [
    {
     "name": "stdout",
     "output_type": "stream",
     "text": [
      "🟢username and password are valid\n",
      "None\n"
     ]
    }
   ],
   "source": [
    "username = input('enter a username')\n",
    "pwd = input('enter your password')\n",
    "if len(username) < 3:\n",
    "    print('❌username must be atleast 3 characters')\n",
    "elif len(pwd) < 8:\n",
    "    print('❌password must be atleast 8 character')\n",
    "elif not username.isalpha():\n",
    "    print('❌username must be alphabet')\n",
    "else:\n",
    "    print(print('🟢username and password are valid'))"
   ]
  },
  {
   "cell_type": "code",
   "execution_count": 16,
   "metadata": {},
   "outputs": [
    {
     "name": "stdout",
     "output_type": "stream",
     "text": [
      "🟢username and password are valid\n",
      "None\n"
     ]
    }
   ],
   "source": [
    "username = input('enter a username')\n",
    "pwd = input('enter your password')\n",
    "if len(username) < 3:\n",
    "    print('❌username must be atleast 3 characters')\n",
    "if len(pwd) < 8:\n",
    "    print('❌password must be atleast 8 character')\n",
    "if not username.isalpha():\n",
    "    print('❌username must be alphabet')\n",
    "if len (username) >= 3 and len(pwd) >= 8 and username.isalpha():\n",
    "    print(print('🟢username and password are valid'))"
   ]
  },
  {
   "cell_type": "code",
   "execution_count": 17,
   "metadata": {},
   "outputs": [
    {
     "name": "stdout",
     "output_type": "stream",
     "text": [
      "today is sunday\n"
     ]
    }
   ],
   "source": [
    "day = input('enter a day')\n",
    "match day:\n",
    "    case'saturday':\n",
    "        print('today is saturday')\n",
    "    case 'sunday':\n",
    "        print('today is sunday')\n",
    "    case'monday':\n",
    "        print('today is monday')\n",
    "        "
   ]
  },
  {
   "cell_type": "code",
   "execution_count": 18,
   "metadata": {},
   "outputs": [
    {
     "name": "stdout",
     "output_type": "stream",
     "text": [
      "invalid day\n"
     ]
    }
   ],
   "source": [
    "day = input('enter a day')\n",
    "match day:\n",
    "    case'saturday':\n",
    "        print('today is saturday')\n",
    "    case 'sunday':\n",
    "        print('today is sunday')\n",
    "    case'monday':\n",
    "        print('today is monday')\n",
    "    case'tuesday':\n",
    "        print('today is tuesday')\n",
    "    case 'thursday' | 'holiday':\n",
    "        print('today is holiday')\n",
    "    case _:\n",
    "         print('invalid day')"
   ]
  },
  {
   "cell_type": "code",
   "execution_count": null,
   "metadata": {},
   "outputs": [],
   "source": []
  }
 ],
 "metadata": {
  "kernelspec": {
   "display_name": "base",
   "language": "python",
   "name": "python3"
  },
  "language_info": {
   "codemirror_mode": {
    "name": "ipython",
    "version": 3
   },
   "file_extension": ".py",
   "mimetype": "text/x-python",
   "name": "python",
   "nbconvert_exporter": "python",
   "pygments_lexer": "ipython3",
   "version": "3.10.10"
  },
  "orig_nbformat": 4
 },
 "nbformat": 4,
 "nbformat_minor": 2
}
