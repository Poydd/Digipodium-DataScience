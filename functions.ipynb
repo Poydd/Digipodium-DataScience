{
 "cells": [
  {
   "cell_type": "markdown",
   "metadata": {},
   "source": [
    "programming functions\n",
    " -**predefined function**\n",
    "    -*standard library function* (no extra info/function that are imported by default when executing python )\n",
    "    -library (module) function\n",
    "       -preinstalled library\n",
    "         -for example\n",
    "           -os\n",
    "           -math\n",
    "           -random\n",
    "           -data time\n",
    "     - *3rd party*\n",
    "        -install with pip\n",
    "            -pip install <package name>'\n",
    "            -pip show<package-name>\n",
    "            -install with conda\n",
    "            -conda install<repo> <package name>'\n",
    " -**user defined function**\n",
    "    -functions without paramters and return value\n",
    "    -functions with parameters\n",
    "        -required parameters\n",
    "        -default parameters\n",
    "        -named parameters\n",
    "        -variable arguement\n",
    "        -keyword variable arguement\n",
    "    -functions with return value\n",
    "    -function with both return value and parameters\n",
    "    -generators\n",
    " -function without name\n",
    "  -*Lambda functions* (anonymous functions)\n",
    "\n"
   ]
  },
  {
   "cell_type": "code",
   "execution_count": 1,
   "metadata": {},
   "outputs": [],
   "source": [
    "import math"
   ]
  },
  {
   "cell_type": "code",
   "execution_count": 4,
   "metadata": {},
   "outputs": [
    {
     "name": "stdout",
     "output_type": "stream",
     "text": [
      "\u001b[1;31mSignature:\u001b[0m \u001b[0mmath\u001b[0m\u001b[1;33m.\u001b[0m\u001b[0mfactorial\u001b[0m\u001b[1;33m(\u001b[0m\u001b[0mx\u001b[0m\u001b[1;33m,\u001b[0m \u001b[1;33m/\u001b[0m\u001b[1;33m)\u001b[0m\u001b[1;33m\u001b[0m\u001b[1;33m\u001b[0m\u001b[0m\n",
      "\u001b[1;31mDocstring:\u001b[0m\n",
      "Find x!.\n",
      "\n",
      "Raise a ValueError if x is negative or non-integral.\n",
      "\u001b[1;31mType:\u001b[0m      builtin_function_or_method"
     ]
    }
   ],
   "source": [
    "math.factorial?"
   ]
  },
  {
   "cell_type": "code",
   "execution_count": 5,
   "metadata": {},
   "outputs": [],
   "source": [
    "import os"
   ]
  },
  {
   "cell_type": "code",
   "execution_count": 6,
   "metadata": {},
   "outputs": [
    {
     "name": "stdout",
     "output_type": "stream",
     "text": [
      "\u001b[1;31mSignature:\u001b[0m \u001b[0mos\u001b[0m\u001b[1;33m.\u001b[0m\u001b[0mlistdir\u001b[0m\u001b[1;33m(\u001b[0m\u001b[0mpath\u001b[0m\u001b[1;33m=\u001b[0m\u001b[1;32mNone\u001b[0m\u001b[1;33m)\u001b[0m\u001b[1;33m\u001b[0m\u001b[1;33m\u001b[0m\u001b[0m\n",
      "\u001b[1;31mDocstring:\u001b[0m\n",
      "Return a list containing the names of the files in the directory.\n",
      "\n",
      "path can be specified as either str, bytes, or a path-like object.  If path is bytes,\n",
      "  the filenames returned will also be bytes; in all other circumstances\n",
      "  the filenames returned will be str.\n",
      "If path is None, uses the path='.'.\n",
      "On some platforms, path may also be specified as an open file descriptor;\\\n",
      "  the file descriptor must refer to a directory.\n",
      "  If this functionality is unavailable, using it raises NotImplementedError.\n",
      "\n",
      "The list is in arbitrary order.  It does not include the special\n",
      "entries '.' and '..' even if they are present in the directory.\n",
      "\u001b[1;31mType:\u001b[0m      builtin_function_or_method"
     ]
    }
   ],
   "source": [
    "os.listdir?"
   ]
  },
  {
   "cell_type": "code",
   "execution_count": 12,
   "metadata": {},
   "outputs": [],
   "source": [
    "\n",
    "def si(p, r, t):\n",
    "    ans = p * r * t / 100\n",
    "    print(f'simple interest is{ans:.2f}')"
   ]
  },
  {
   "cell_type": "code",
   "execution_count": 13,
   "metadata": {},
   "outputs": [
    {
     "name": "stdout",
     "output_type": "stream",
     "text": [
      "simple interest is100.00\n"
     ]
    }
   ],
   "source": [
    "si(1000, 5, 2)"
   ]
  },
  {
   "cell_type": "code",
   "execution_count": 16,
   "metadata": {},
   "outputs": [],
   "source": [
    "def prime(x):\n",
    "    c = 0\n",
    "    for i in range(1,x+1):\n",
    "        if x % i == 0:\n",
    "            c = c + 1\n",
    "    if c == 2:\n",
    "        print('is a prime number')\n",
    "    else:\n",
    "        print('not a prime number')\n",
    "\n"
   ]
  },
  {
   "cell_type": "code",
   "execution_count": 17,
   "metadata": {},
   "outputs": [
    {
     "name": "stdout",
     "output_type": "stream",
     "text": [
      "is a prime number\n",
      "None\n"
     ]
    }
   ],
   "source": [
    "print(prime(2))"
   ]
  },
  {
   "cell_type": "code",
   "execution_count": 1,
   "metadata": {},
   "outputs": [],
   "source": [
    "def hypotenuse(p, b=1):\n",
    "    h = (p**2 + p**2) **0.5\n",
    "    print(h)"
   ]
  },
  {
   "cell_type": "code",
   "execution_count": null,
   "metadata": {},
   "outputs": [],
   "source": [
    "hypotenuse()\n",
    "hypotenuse(5)\n",
    "hypotenuse(12,5)\n",
    "hypotenuse(p = 10, b=5)    # named arguements\n",
    "hypotenuse(b=13, p=12)\n",
    "hypotenuse(12, b=5)      # positional argurment\n",
    "hypotenuse(b=5, 12)       # positional arguement must come first"
   ]
  },
  {
   "cell_type": "code",
   "execution_count": 3,
   "metadata": {},
   "outputs": [
    {
     "name": "stdout",
     "output_type": "stream",
     "text": [
      "14.142135623730951\n",
      "14.142135623730951\n",
      "14.142135623730951\n",
      "14.142135623730951\n"
     ]
    }
   ],
   "source": [
    "x = int(input('perp'))\n",
    "y = int(input('Base'))\n",
    "hypotenuse(x,y)\n",
    "hypotenuse(p=x, b=y)\n",
    "hypotenuse(x ,b=y)\n",
    "hypotenuse(b=y,p=x)"
   ]
  },
  {
   "cell_type": "code",
   "execution_count": 6,
   "metadata": {},
   "outputs": [],
   "source": [
    "def multiplier(*num):\n",
    "    print(num)"
   ]
  },
  {
   "cell_type": "code",
   "execution_count": 7,
   "metadata": {},
   "outputs": [
    {
     "name": "stdout",
     "output_type": "stream",
     "text": [
      "()\n",
      "(2,)\n",
      "(2, 3, 4)\n",
      "(2, 3, 4, 12, 1, 2)\n"
     ]
    }
   ],
   "source": [
    "multiplier()\n",
    "multiplier(2)\n",
    "multiplier(2,3,4)\n",
    "multiplier(2,3,4,12,1,2)"
   ]
  },
  {
   "cell_type": "code",
   "execution_count": 10,
   "metadata": {},
   "outputs": [],
   "source": [
    "def multiplier(*num):\n",
    "    ans = 1\n",
    "    for i in num:\n",
    "        ans *= i\n",
    "        print(ans)"
   ]
  },
  {
   "cell_type": "code",
   "execution_count": 11,
   "metadata": {},
   "outputs": [
    {
     "name": "stdout",
     "output_type": "stream",
     "text": [
      "2\n",
      "2\n",
      "6\n",
      "24\n",
      "2\n",
      "6\n",
      "24\n",
      "288\n",
      "288\n",
      "576\n"
     ]
    }
   ],
   "source": [
    "multiplier()\n",
    "multiplier(2)\n",
    "multiplier(2,3,4)\n",
    "multiplier(2,3,4,12,1,2)"
   ]
  },
  {
   "cell_type": "code",
   "execution_count": 19,
   "metadata": {},
   "outputs": [],
   "source": [
    "def agg(*num, operator='add'):\n",
    "    if operator == 'add':\n",
    "        ans = 0\n",
    "        for i in num:\n",
    "            ans += i\n",
    "            print(ans)\n",
    "    elif operator == 'mul':\n",
    "        ans = 1\n",
    "        for i in num:\n",
    "            ans *= print(ans)\n",
    "    elif operator == 'mean':\n",
    "        ans = 0\n",
    "        for i in num:\n",
    "            ans += i\n",
    "            print(ans/len(num))\n",
    "        else:\n",
    "            print('invalid operator')"
   ]
  },
  {
   "cell_type": "code",
   "execution_count": 20,
   "metadata": {},
   "outputs": [
    {
     "name": "stdout",
     "output_type": "stream",
     "text": [
      "11\n",
      "33\n",
      "66\n",
      "1\n"
     ]
    },
    {
     "ename": "TypeError",
     "evalue": "unsupported operand type(s) for *=: 'int' and 'NoneType'",
     "output_type": "error",
     "traceback": [
      "\u001b[1;31m---------------------------------------------------------------------------\u001b[0m",
      "\u001b[1;31mTypeError\u001b[0m                                 Traceback (most recent call last)",
      "Cell \u001b[1;32mIn[20], line 2\u001b[0m\n\u001b[0;32m      1\u001b[0m agg(\u001b[39m11\u001b[39m,\u001b[39m22\u001b[39m,\u001b[39m33\u001b[39m)\n\u001b[1;32m----> 2\u001b[0m agg(\u001b[39m11\u001b[39;49m,\u001b[39m22\u001b[39;49m,\u001b[39m1\u001b[39;49m,\u001b[39m2\u001b[39;49m,\u001b[39m3\u001b[39;49m,operator\u001b[39m=\u001b[39;49m\u001b[39m'\u001b[39;49m\u001b[39mmul\u001b[39;49m\u001b[39m'\u001b[39;49m)\n\u001b[0;32m      3\u001b[0m agg(\u001b[39m11\u001b[39m,\u001b[39m2\u001b[39m,\u001b[39m32\u001b[39m,\u001b[39m55\u001b[39m,operator\u001b[39m=\u001b[39m\u001b[39m'\u001b[39m\u001b[39mmean\u001b[39m\u001b[39m'\u001b[39m)\n\u001b[0;32m      4\u001b[0m agg(\u001b[39m11\u001b[39m,\u001b[39m2\u001b[39m,\u001b[39m32\u001b[39m,\u001b[39m55\u001b[39m,operator\u001b[39m=\u001b[39m\u001b[39m'\u001b[39m\u001b[39msheen\u001b[39m\u001b[39m'\u001b[39m)\n",
      "Cell \u001b[1;32mIn[19], line 10\u001b[0m, in \u001b[0;36magg\u001b[1;34m(operator, *num)\u001b[0m\n\u001b[0;32m      8\u001b[0m     ans \u001b[39m=\u001b[39m \u001b[39m1\u001b[39m\n\u001b[0;32m      9\u001b[0m     \u001b[39mfor\u001b[39;00m i \u001b[39min\u001b[39;00m num:\n\u001b[1;32m---> 10\u001b[0m         ans \u001b[39m*\u001b[39m\u001b[39m=\u001b[39m \u001b[39mprint\u001b[39m(ans)\n\u001b[0;32m     11\u001b[0m \u001b[39melif\u001b[39;00m operator \u001b[39m==\u001b[39m \u001b[39m'\u001b[39m\u001b[39mmean\u001b[39m\u001b[39m'\u001b[39m:\n\u001b[0;32m     12\u001b[0m     ans \u001b[39m=\u001b[39m \u001b[39m0\u001b[39m\n",
      "\u001b[1;31mTypeError\u001b[0m: unsupported operand type(s) for *=: 'int' and 'NoneType'"
     ]
    }
   ],
   "source": [
    "agg(11,22,33)\n",
    "agg(11,22,1,2,3,operator='mul')\n",
    "agg(11,2,32,55,operator='mean')\n",
    "agg(11,2,32,55,operator='sheen')\n"
   ]
  },
  {
   "cell_type": "code",
   "execution_count": null,
   "metadata": {},
   "outputs": [],
   "source": []
  }
 ],
 "metadata": {
  "kernelspec": {
   "display_name": "base",
   "language": "python",
   "name": "python3"
  },
  "language_info": {
   "codemirror_mode": {
    "name": "ipython",
    "version": 3
   },
   "file_extension": ".py",
   "mimetype": "text/x-python",
   "name": "python",
   "nbconvert_exporter": "python",
   "pygments_lexer": "ipython3",
   "version": "3.10.10"
  },
  "orig_nbformat": 4
 },
 "nbformat": 4,
 "nbformat_minor": 2
}
