{
 "cells": [
  {
   "cell_type": "markdown",
   "metadata": {},
   "source": [
    "programming functions\n",
    " -**predefined function**\n",
    "    -*standard library function* (no extra info/function that are imported by default when executing python )\n",
    "    -library (module) function\n",
    "       -preinstalled library\n",
    "         -for example\n",
    "           -os\n",
    "           -math\n",
    "           -random\n",
    "           -data time\n",
    "     - *3rd party*\n",
    "        -install with pip\n",
    "            -pip install <package name>'\n",
    "            -pip show<package-name>\n",
    "            -install with conda\n",
    "            -conda install<repo> <package name>'\n",
    " -**user defined function**\n",
    "    -functions without paramters and return value\n",
    "    -functions with parameters\n",
    "        -required parameters\n",
    "        -default parameters\n",
    "        -named parameters\n",
    "        -variable arguement\n",
    "        -keyword variable arguement\n",
    "    -functions with return value\n",
    "    -function with both return value and parameters\n",
    "    -generators\n",
    " -function without name\n",
    "  -*Lambda functions* (anonymous functions)\n",
    "\n"
   ]
  },
  {
   "cell_type": "code",
   "execution_count": 1,
   "metadata": {},
   "outputs": [],
   "source": [
    "import math"
   ]
  },
  {
   "cell_type": "code",
   "execution_count": 4,
   "metadata": {},
   "outputs": [
    {
     "name": "stdout",
     "output_type": "stream",
     "text": [
      "\u001b[1;31mSignature:\u001b[0m \u001b[0mmath\u001b[0m\u001b[1;33m.\u001b[0m\u001b[0mfactorial\u001b[0m\u001b[1;33m(\u001b[0m\u001b[0mx\u001b[0m\u001b[1;33m,\u001b[0m \u001b[1;33m/\u001b[0m\u001b[1;33m)\u001b[0m\u001b[1;33m\u001b[0m\u001b[1;33m\u001b[0m\u001b[0m\n",
      "\u001b[1;31mDocstring:\u001b[0m\n",
      "Find x!.\n",
      "\n",
      "Raise a ValueError if x is negative or non-integral.\n",
      "\u001b[1;31mType:\u001b[0m      builtin_function_or_method"
     ]
    }
   ],
   "source": [
    "math.factorial?"
   ]
  },
  {
   "cell_type": "code",
   "execution_count": 5,
   "metadata": {},
   "outputs": [],
   "source": [
    "import os"
   ]
  },
  {
   "cell_type": "code",
   "execution_count": 6,
   "metadata": {},
   "outputs": [
    {
     "name": "stdout",
     "output_type": "stream",
     "text": [
      "\u001b[1;31mSignature:\u001b[0m \u001b[0mos\u001b[0m\u001b[1;33m.\u001b[0m\u001b[0mlistdir\u001b[0m\u001b[1;33m(\u001b[0m\u001b[0mpath\u001b[0m\u001b[1;33m=\u001b[0m\u001b[1;32mNone\u001b[0m\u001b[1;33m)\u001b[0m\u001b[1;33m\u001b[0m\u001b[1;33m\u001b[0m\u001b[0m\n",
      "\u001b[1;31mDocstring:\u001b[0m\n",
      "Return a list containing the names of the files in the directory.\n",
      "\n",
      "path can be specified as either str, bytes, or a path-like object.  If path is bytes,\n",
      "  the filenames returned will also be bytes; in all other circumstances\n",
      "  the filenames returned will be str.\n",
      "If path is None, uses the path='.'.\n",
      "On some platforms, path may also be specified as an open file descriptor;\\\n",
      "  the file descriptor must refer to a directory.\n",
      "  If this functionality is unavailable, using it raises NotImplementedError.\n",
      "\n",
      "The list is in arbitrary order.  It does not include the special\n",
      "entries '.' and '..' even if they are present in the directory.\n",
      "\u001b[1;31mType:\u001b[0m      builtin_function_or_method"
     ]
    }
   ],
   "source": [
    "os.listdir?"
   ]
  },
  {
   "cell_type": "code",
   "execution_count": 12,
   "metadata": {},
   "outputs": [],
   "source": [
    "\n",
    "def si(p, r, t):\n",
    "    ans = p * r * t / 100\n",
    "    print(f'simple interest is{ans:.2f}')"
   ]
  },
  {
   "cell_type": "code",
   "execution_count": 13,
   "metadata": {},
   "outputs": [
    {
     "name": "stdout",
     "output_type": "stream",
     "text": [
      "simple interest is100.00\n"
     ]
    }
   ],
   "source": [
    "si(1000, 5, 2)"
   ]
  },
  {
   "cell_type": "code",
   "execution_count": 16,
   "metadata": {},
   "outputs": [],
   "source": [
    "def prime(x):\n",
    "    c = 0\n",
    "    for i in range(1,x+1):\n",
    "        if x % i == 0:\n",
    "            c = c + 1\n",
    "    if c == 2:\n",
    "        print('is a prime number')\n",
    "    else:\n",
    "        print('not a prime number')\n",
    "\n"
   ]
  },
  {
   "cell_type": "code",
   "execution_count": 17,
   "metadata": {},
   "outputs": [
    {
     "name": "stdout",
     "output_type": "stream",
     "text": [
      "is a prime number\n",
      "None\n"
     ]
    }
   ],
   "source": [
    "print(prime(2))"
   ]
  },
  {
   "cell_type": "code",
   "execution_count": 1,
   "metadata": {},
   "outputs": [],
   "source": [
    "def hypotenuse(p, b=1):\n",
    "    h = (p**2 + p**2) **0.5\n",
    "    print(h)"
   ]
  },
  {
   "cell_type": "code",
   "execution_count": null,
   "metadata": {},
   "outputs": [],
   "source": [
    "hypotenuse()\n",
    "hypotenuse(5)\n",
    "hypotenuse(12,5)\n",
    "hypotenuse(p = 10, b=5)    # named arguements\n",
    "hypotenuse(b=13, p=12)\n",
    "hypotenuse(12, b=5)      # positional argurment\n",
    "hypotenuse(b=5, 12)       # positional arguement must come first"
   ]
  },
  {
   "cell_type": "code",
   "execution_count": 3,
   "metadata": {},
   "outputs": [
    {
     "name": "stdout",
     "output_type": "stream",
     "text": [
      "14.142135623730951\n",
      "14.142135623730951\n",
      "14.142135623730951\n",
      "14.142135623730951\n"
     ]
    }
   ],
   "source": [
    "x = int(input('perp'))\n",
    "y = int(input('Base'))\n",
    "hypotenuse(x,y)\n",
    "hypotenuse(p=x, b=y)\n",
    "hypotenuse(x ,b=y)\n",
    "hypotenuse(b=y,p=x)"
   ]
  },
  {
   "cell_type": "code",
   "execution_count": 6,
   "metadata": {},
   "outputs": [],
   "source": [
    "def multiplier(*num):\n",
    "    print(num)"
   ]
  },
  {
   "cell_type": "code",
   "execution_count": 7,
   "metadata": {},
   "outputs": [
    {
     "name": "stdout",
     "output_type": "stream",
     "text": [
      "()\n",
      "(2,)\n",
      "(2, 3, 4)\n",
      "(2, 3, 4, 12, 1, 2)\n"
     ]
    }
   ],
   "source": [
    "multiplier()\n",
    "multiplier(2)\n",
    "multiplier(2,3,4)\n",
    "multiplier(2,3,4,12,1,2)"
   ]
  },
  {
   "cell_type": "code",
   "execution_count": 10,
   "metadata": {},
   "outputs": [],
   "source": [
    "def multiplier(*num):\n",
    "    ans = 1\n",
    "    for i in num:\n",
    "        ans *= i\n",
    "        print(ans)"
   ]
  },
  {
   "cell_type": "code",
   "execution_count": 11,
   "metadata": {},
   "outputs": [
    {
     "name": "stdout",
     "output_type": "stream",
     "text": [
      "2\n",
      "2\n",
      "6\n",
      "24\n",
      "2\n",
      "6\n",
      "24\n",
      "288\n",
      "288\n",
      "576\n"
     ]
    }
   ],
   "source": [
    "multiplier()\n",
    "multiplier(2)\n",
    "multiplier(2,3,4)\n",
    "multiplier(2,3,4,12,1,2)"
   ]
  },
  {
   "cell_type": "code",
   "execution_count": 1,
   "metadata": {},
   "outputs": [],
   "source": [
    "def agg(*num, operator='add'):\n",
    "    if operator == 'add':\n",
    "        ans = 0\n",
    "        for i in num:\n",
    "            ans += i\n",
    "            print(ans)\n",
    "    elif operator == 'mul':\n",
    "        ans = 1\n",
    "        for i in num:\n",
    "            ans *= i \n",
    "            print(ans)\n",
    "    elif operator == 'mean':\n",
    "        ans = 0\n",
    "        for i in num:\n",
    "            ans += i\n",
    "            print(ans/len(num))\n",
    "        else:\n",
    "            print('invalid operator')"
   ]
  },
  {
   "cell_type": "code",
   "execution_count": 2,
   "metadata": {},
   "outputs": [
    {
     "name": "stdout",
     "output_type": "stream",
     "text": [
      "11\n",
      "33\n",
      "66\n",
      "11\n",
      "242\n",
      "242\n",
      "484\n",
      "1452\n",
      "2.75\n",
      "3.25\n",
      "11.25\n",
      "25.0\n",
      "invalid operator\n"
     ]
    }
   ],
   "source": [
    "agg(11,22,33)\n",
    "agg(11,22,1,2,3,operator='mul')\n",
    "agg(11,2,32,55,operator='mean')\n",
    "agg(11,2,32,55,operator='sheen')\n"
   ]
  },
  {
   "cell_type": "code",
   "execution_count": 3,
   "metadata": {},
   "outputs": [
    {
     "name": "stdout",
     "output_type": "stream",
     "text": [
      "9\n"
     ]
    }
   ],
   "source": [
    "def add(a,c):\n",
    "    return a+c\n",
    "\n",
    "ans = add(4,5)\n",
    "print(ans)"
   ]
  },
  {
   "cell_type": "code",
   "execution_count": 6,
   "metadata": {},
   "outputs": [
    {
     "name": "stdout",
     "output_type": "stream",
     "text": [
      "False\n",
      "True\n"
     ]
    }
   ],
   "source": [
    "def odd(x):\n",
    "    if x % 2 == 0:\n",
    "        return False\n",
    "    else: return True\n",
    "    \n",
    "print(odd(2))\n",
    "print(odd(3))"
   ]
  },
  {
   "cell_type": "markdown",
   "metadata": {},
   "source": [
    "default arguements"
   ]
  },
  {
   "cell_type": "code",
   "execution_count": 7,
   "metadata": {},
   "outputs": [
    {
     "name": "stdout",
     "output_type": "stream",
     "text": [
      "6\n",
      "20\n"
     ]
    }
   ],
   "source": [
    "def area(l,b=10):\n",
    "    return l*b\n",
    "\n",
    "print(area(2,3))\n",
    "print(area(2))"
   ]
  },
  {
   "cell_type": "markdown",
   "metadata": {},
   "source": [
    "keyword arguement"
   ]
  },
  {
   "cell_type": "code",
   "execution_count": 13,
   "metadata": {},
   "outputs": [
    {
     "name": "stdout",
     "output_type": "stream",
     "text": [
      "jones marie\n"
     ]
    }
   ],
   "source": [
    "def name(first,last):\n",
    "    return first+\" \"+last\n",
    "\n",
    "print(name(last='marie', first='jones'))"
   ]
  },
  {
   "cell_type": "markdown",
   "metadata": {},
   "source": [
    "positional arguement\n"
   ]
  },
  {
   "cell_type": "code",
   "execution_count": 17,
   "metadata": {},
   "outputs": [
    {
     "name": "stdout",
     "output_type": "stream",
     "text": [
      "name is mac\n",
      "age is 19\n",
      "name is mac\n",
      "age is 19\n"
     ]
    }
   ],
   "source": [
    "def posn(name,age):\n",
    "    print('name is', name)\n",
    "    print('age is',age)\n",
    "posn('mac',19)\n",
    "posn(age=19, name='mac')"
   ]
  },
  {
   "cell_type": "markdown",
   "metadata": {},
   "source": [
    "arbitart argurments *args *kwargs"
   ]
  },
  {
   "cell_type": "code",
   "execution_count": 21,
   "metadata": {},
   "outputs": [
    {
     "name": "stdout",
     "output_type": "stream",
     "text": [
      "shini\n",
      "vidudi\n",
      "mac\n",
      "None\n"
     ]
    }
   ],
   "source": [
    "def sentence(*args):\n",
    "    for i in args:\n",
    "        print(i)\n",
    "\n",
    "\n",
    "print(sentence('shini','vidudi','mac'))\n",
    "# if a function doesn't have a return statement, it returns none by fault"
   ]
  },
  {
   "cell_type": "code",
   "execution_count": 27,
   "metadata": {},
   "outputs": [
    {
     "name": "stdout",
     "output_type": "stream",
     "text": [
      "{'name': 'shini', 'age': 19, 'place': 'china'}\n",
      "name shini\n",
      "age 19\n",
      "place china\n",
      "1\n"
     ]
    }
   ],
   "source": [
    "def fun(**kwargs):\n",
    "    print(kwargs)\n",
    "    for i in kwargs:\n",
    "        print(i,kwargs[i])\n",
    "\n",
    "    return 1\n",
    "print(fun(name='shini',age=19,place='china'))"
   ]
  },
  {
   "cell_type": "markdown",
   "metadata": {},
   "source": [
    "lambda function"
   ]
  },
  {
   "cell_type": "code",
   "execution_count": 28,
   "metadata": {},
   "outputs": [
    {
     "name": "stdout",
     "output_type": "stream",
     "text": [
      "8\n"
     ]
    }
   ],
   "source": [
    "def cube(x):\n",
    "    return x**3\n",
    "print(cube(2))"
   ]
  },
  {
   "cell_type": "code",
   "execution_count": 29,
   "metadata": {},
   "outputs": [
    {
     "name": "stdout",
     "output_type": "stream",
     "text": [
      "8\n"
     ]
    }
   ],
   "source": [
    "cube = lambda x:x**3\n",
    "print(cube(2))\n"
   ]
  },
  {
   "cell_type": "code",
   "execution_count": 33,
   "metadata": {},
   "outputs": [
    {
     "name": "stdout",
     "output_type": "stream",
     "text": [
      "2.23606797749979\n"
     ]
    }
   ],
   "source": [
    "def hypotanuse(b,h):\n",
    "    return (b**2+h**2)**0.5\n",
    "\n",
    "print(hypotanuse(1,2))"
   ]
  },
  {
   "cell_type": "code",
   "execution_count": 34,
   "metadata": {},
   "outputs": [
    {
     "name": "stdout",
     "output_type": "stream",
     "text": [
      "2.23606797749979\n"
     ]
    }
   ],
   "source": [
    "hypo = lambda b,h: (b**2+h**2)**0.5\n",
    "\n",
    "print(hypotanuse(1,2))"
   ]
  },
  {
   "cell_type": "code",
   "execution_count": 49,
   "metadata": {},
   "outputs": [
    {
     "name": "stdout",
     "output_type": "stream",
     "text": [
      "False\n"
     ]
    }
   ],
   "source": [
    "num = lambda x,y: True if x>y else False\n",
    "print(num(2,3))"
   ]
  },
  {
   "cell_type": "code",
   "execution_count": 46,
   "metadata": {},
   "outputs": [
    {
     "name": "stdout",
     "output_type": "stream",
     "text": [
      "True\n"
     ]
    }
   ],
   "source": [
    "odd=lambda x: True if x%2==1 else False\n",
    "print(odd(3))"
   ]
  },
  {
   "cell_type": "code",
   "execution_count": 48,
   "metadata": {},
   "outputs": [
    {
     "name": "stdout",
     "output_type": "stream",
     "text": [
      "True\n"
     ]
    }
   ],
   "source": [
    "even=lambda x: True if x%2==0 else False\n",
    "\n",
    "print(even(6))"
   ]
  },
  {
   "cell_type": "code",
   "execution_count": 50,
   "metadata": {},
   "outputs": [
    {
     "name": "stdout",
     "output_type": "stream",
     "text": [
      "0\n",
      "1\n",
      "2\n",
      "3\n",
      "4\n"
     ]
    }
   ],
   "source": [
    "arr = [lambda arg=x: arg for x in range (5)]\n",
    "for i in arr:\n",
    "    print(i())\n"
   ]
  },
  {
   "cell_type": "code",
   "execution_count": 52,
   "metadata": {},
   "outputs": [
    {
     "name": "stdout",
     "output_type": "stream",
     "text": [
      "[[0, 0, 0, 0], [0, 0, 0, 0], [0, 0, 0, 0]]\n"
     ]
    }
   ],
   "source": [
    "# double dimension array\n",
    "matrix = [[0 for i in range(4)]for j in range(3)]\n",
    "\n",
    "print(matrix)"
   ]
  },
  {
   "cell_type": "code",
   "execution_count": 54,
   "metadata": {},
   "outputs": [
    {
     "name": "stdout",
     "output_type": "stream",
     "text": [
      "[[0, 0, 0, 0], [0, 0, 0, 0], [0, 0, 0, 0]]\n"
     ]
    }
   ],
   "source": [
    "matrix = []\n",
    "for i in range(3):\n",
    "    sub = []\n",
    "    for i in range(4):\n",
    "        sub.append(0)\n",
    "    matrix.append(sub)\n",
    "\n",
    "print(matrix)"
   ]
  },
  {
   "cell_type": "code",
   "execution_count": null,
   "metadata": {},
   "outputs": [],
   "source": []
  }
 ],
 "metadata": {
  "kernelspec": {
   "display_name": "base",
   "language": "python",
   "name": "python3"
  },
  "language_info": {
   "codemirror_mode": {
    "name": "ipython",
    "version": 3
   },
   "file_extension": ".py",
   "mimetype": "text/x-python",
   "name": "python",
   "nbconvert_exporter": "python",
   "pygments_lexer": "ipython3",
   "version": "3.10.10"
  },
  "orig_nbformat": 4
 },
 "nbformat": 4,
 "nbformat_minor": 2
}
